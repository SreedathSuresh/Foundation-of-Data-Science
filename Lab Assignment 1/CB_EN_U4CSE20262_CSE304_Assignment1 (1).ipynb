{
  "nbformat": 4,
  "nbformat_minor": 0,
  "metadata": {
    "colab": {
      "provenance": []
    },
    "kernelspec": {
      "name": "python3",
      "display_name": "Python 3"
    },
    "language_info": {
      "name": "python"
    }
  },
  "cells": [
    {
      "cell_type": "code",
      "source": [
        "A = [\"aman\",\"222\",777,400.4]\n",
        "print(type(A))\n",
        "A = tuple(A)\n",
        "print(A)\n",
        "print(type(A))"
      ],
      "metadata": {
        "id": "PJ7wV8pqJfSi",
        "colab": {
          "base_uri": "https://localhost:8080/"
        },
        "outputId": "118fdc09-0bf7-4cbf-8f00-f92058dde087"
      },
      "execution_count": null,
      "outputs": [
        {
          "output_type": "stream",
          "name": "stdout",
          "text": [
            "<class 'list'>\n",
            "('aman', '222', 777, 400.4)\n",
            "<class 'tuple'>\n"
          ]
        }
      ]
    },
    {
      "cell_type": "code",
      "source": [
        "#Q2\n",
        "A = {\"Roll_No\":\"CB.EN.U4CSE20262\",\"Last_Name\":\"Suresh\",\"First_Name\":\"Sreedath\",\"DOB\":\"06/11/2002\"}\n",
        "print(A)\n",
        "print(type(A))\n",
        "print(A.keys())\n",
        "print(A.values())"
      ],
      "metadata": {
        "colab": {
          "base_uri": "https://localhost:8080/"
        },
        "id": "K8jgnHDFgFn1",
        "outputId": "e89e40a8-d400-43a9-e947-56479c7cd44b"
      },
      "execution_count": 2,
      "outputs": [
        {
          "output_type": "stream",
          "name": "stdout",
          "text": [
            "{'Roll_No': 'CB.EN.U4CSE20262', 'Last_Name': 'Suresh', 'First_Name': 'Sreedath', 'DOB': '06/11/2002'}\n",
            "<class 'dict'>\n",
            "dict_keys(['Roll_No', 'Last_Name', 'First_Name', 'DOB'])\n",
            "dict_values(['CB.EN.U4CSE20262', 'Suresh', 'Sreedath', '06/11/2002'])\n"
          ]
        }
      ]
    },
    {
      "cell_type": "code",
      "source": [
        "#Q3\n",
        "import numpy as np\n",
        "\n",
        "np.random.seed()\n",
        "print(np.random.rand(3,3))"
      ],
      "metadata": {
        "colab": {
          "base_uri": "https://localhost:8080/"
        },
        "id": "oWeKwM62MVKg",
        "outputId": "89c2782b-553c-4a04-931d-37906d0f8a01"
      },
      "execution_count": null,
      "outputs": [
        {
          "output_type": "stream",
          "name": "stdout",
          "text": [
            "[[0.45863878 0.94573277 0.73610214]\n",
            " [0.38765668 0.00536177 0.024435  ]\n",
            " [0.46044007 0.25996517 0.00133922]]\n"
          ]
        }
      ]
    },
    {
      "cell_type": "code",
      "source": [
        "#Q4\n",
        "import numpy as np\n",
        "\n",
        "print(np.random.uniform(0,1))\n",
        "print(abs(-1234))"
      ],
      "metadata": {
        "colab": {
          "base_uri": "https://localhost:8080/"
        },
        "id": "RTGSk113gNg5",
        "outputId": "b5f25522-f19c-4e2e-ec72-bbb0bb505b9f"
      },
      "execution_count": null,
      "outputs": [
        {
          "output_type": "stream",
          "name": "stdout",
          "text": [
            "0.6879325249921001\n",
            "1234\n"
          ]
        }
      ]
    },
    {
      "cell_type": "code",
      "source": [
        "#Q5\n",
        "import numpy as np\n",
        "def return_rand():\n",
        "  return np.random.randint(20,90)\n",
        "\n",
        "return_rand()"
      ],
      "metadata": {
        "colab": {
          "base_uri": "https://localhost:8080/"
        },
        "id": "c53mYqNdgNpG",
        "outputId": "6d243b22-5d53-40ed-89f7-31d78e40450b"
      },
      "execution_count": null,
      "outputs": [
        {
          "output_type": "execute_result",
          "data": {
            "text/plain": [
              "52"
            ]
          },
          "metadata": {},
          "execution_count": 5
        }
      ]
    },
    {
      "cell_type": "code",
      "source": [
        "#Q6\n",
        "import numpy as np\n",
        "\n",
        "A = [11,12,13,14,15]\n",
        "\n",
        "print(A)\n",
        "np.random.shuffle(A)\n",
        "print(\"After Shuffling: \",A)\n",
        "\n",
        "\n",
        "print(A[:3])\n",
        "\n",
        "print(A[3])\n"
      ],
      "metadata": {
        "colab": {
          "base_uri": "https://localhost:8080/"
        },
        "id": "CJmBYRR_gNuh",
        "outputId": "9ea53f55-b474-47a4-9e60-009dc53f5172"
      },
      "execution_count": null,
      "outputs": [
        {
          "output_type": "stream",
          "name": "stdout",
          "text": [
            "[11, 12, 13, 14, 15]\n",
            "After Shuffling:  [12, 13, 15, 14, 11]\n",
            "[12, 13, 15]\n",
            "14\n"
          ]
        }
      ]
    },
    {
      "cell_type": "code",
      "source": [
        "#Q7\n",
        "F = open(\"King.txt\",\"w\")\n",
        "F.write(\"The King is dead, Long Live the King\")\n",
        "F.close()\n",
        "\n",
        "F = open(\"King.txt\",\"r\")\n",
        "print(F.read())\n",
        "F.close()"
      ],
      "metadata": {
        "colab": {
          "base_uri": "https://localhost:8080/"
        },
        "id": "mzoJjifngNy4",
        "outputId": "5ba718d0-b50f-464d-916c-a2e827e9a076"
      },
      "execution_count": null,
      "outputs": [
        {
          "output_type": "stream",
          "name": "stdout",
          "text": [
            "The King is dead, Long Live the King\n"
          ]
        }
      ]
    },
    {
      "cell_type": "code",
      "source": [
        "#Q8\n",
        "def if_elif_else(n):\n",
        "  if(n<0):\n",
        "    print(\"Negative number!\")\n",
        "  elif(n>0):\n",
        "    print(\"Positive number!\")\n",
        "  else:\n",
        "    print(\"Zero!\")\n",
        "\n",
        "if_elif_else(10)\n",
        "if_elif_else(-40)\n",
        "if_elif_else(0)"
      ],
      "metadata": {
        "colab": {
          "base_uri": "https://localhost:8080/"
        },
        "id": "rEUTzNQmgN2K",
        "outputId": "bbe77cf5-f153-4f7b-e93e-c9fe4b71c04f"
      },
      "execution_count": null,
      "outputs": [
        {
          "output_type": "stream",
          "name": "stdout",
          "text": [
            "Positive number!\n",
            "Negative number!\n",
            "Zero!\n"
          ]
        }
      ]
    },
    {
      "cell_type": "code",
      "source": [
        "\n",
        "def for_while(n):\n",
        "  for i in range(n):\n",
        "    print(n-i,end=\" \")\n",
        "\n",
        "  print()\n",
        "\n",
        "  while(n>0):\n",
        "    n-=1\n",
        "    if(n==5):\n",
        "      continue\n",
        "    elif(n==2):\n",
        "      break\n",
        "    print(n,end=\" \")\n",
        "  \n",
        "for_while(10)"
      ],
      "metadata": {
        "colab": {
          "base_uri": "https://localhost:8080/"
        },
        "id": "BtrbStOPgN5W",
        "outputId": "bde3a1fb-8cfe-4548-a3fa-3aea1598e705"
      },
      "execution_count": null,
      "outputs": [
        {
          "output_type": "stream",
          "name": "stdout",
          "text": [
            "10 9 8 7 6 5 4 3 2 1 \n",
            "9 8 7 6 4 3 "
          ]
        }
      ]
    },
    {
      "cell_type": "code",
      "source": [
        "#Q9\n",
        "A = \"The King is dead, Long Live the King\"\n",
        "\n",
        "print(A)\n",
        "print(A[0])\n",
        "print(A[2:5])\n",
        "print(A[2:])\n",
        "\n",
        "print(A.split())\n",
        "print(A.split(\"i\"))"
      ],
      "metadata": {
        "colab": {
          "base_uri": "https://localhost:8080/"
        },
        "id": "MeK-AIqvg5LW",
        "outputId": "d685ce42-8db0-42c8-e42d-d3c7e468259d"
      },
      "execution_count": null,
      "outputs": [
        {
          "output_type": "stream",
          "name": "stdout",
          "text": [
            "The King is dead, Long Live the King\n",
            "T\n",
            "e K\n",
            "e King is dead, Long Live the King\n",
            "['The', 'King', 'is', 'dead,', 'Long', 'Live', 'the', 'King']\n",
            "['The K', 'ng ', 's dead, Long L', 've the K', 'ng']\n"
          ]
        }
      ]
    },
    {
      "cell_type": "code",
      "source": [
        "#Q10\n",
        "import numpy as np\n",
        "\n",
        "A = [1.0,4.0,5.0,8.0]\n",
        "print(type(A))\n",
        "\n",
        "A = np.array(list(map(int,A)))\n",
        "print(type(A))\n",
        "\n",
        "print(A[:2])"
      ],
      "metadata": {
        "colab": {
          "base_uri": "https://localhost:8080/"
        },
        "id": "-y93xjBYg0k_",
        "outputId": "43606eac-ca6f-4f77-aed5-e58215a1397f"
      },
      "execution_count": null,
      "outputs": [
        {
          "output_type": "stream",
          "name": "stdout",
          "text": [
            "<class 'list'>\n",
            "<class 'numpy.ndarray'>\n",
            "[1 4]\n"
          ]
        }
      ]
    },
    {
      "cell_type": "code",
      "source": [
        "#Q11\n",
        "import numpy as np\n",
        "\n",
        "A = [1,2,3,4,5,6]\n",
        "\n",
        "A = np.array(A)\n",
        "A = A.reshape(2,3)\n",
        "print(A)"
      ],
      "metadata": {
        "colab": {
          "base_uri": "https://localhost:8080/"
        },
        "id": "BENeDDLjhBbt",
        "outputId": "a2b27792-a99a-464b-80a9-44d95cb984c0"
      },
      "execution_count": null,
      "outputs": [
        {
          "output_type": "stream",
          "name": "stdout",
          "text": [
            "[[1 2 3]\n",
            " [4 5 6]]\n"
          ]
        }
      ]
    },
    {
      "cell_type": "code",
      "source": [
        "#Q12\n",
        "import numpy as np\n",
        "\n",
        "A = [1,2,3,4,5,6]\n",
        "\n",
        "A = np.array(A)\n",
        "A = A.reshape(2,3)\n",
        "\n",
        "print(A[1])\n",
        "\n",
        "print(\"[\",end=\"\")\n",
        "for i in A:\n",
        "  for j in i:\n",
        "    print(j,end=\"., \")\n",
        "print(\"]\")\n",
        "\n",
        "print(A.shape)\n",
        "print(len(A))"
      ],
      "metadata": {
        "colab": {
          "base_uri": "https://localhost:8080/"
        },
        "id": "xi9rvG1_hFTB",
        "outputId": "eb3192a6-d7d8-41ac-cac3-9a536d08a59f"
      },
      "execution_count": null,
      "outputs": [
        {
          "output_type": "stream",
          "name": "stdout",
          "text": [
            "[4 5 6]\n",
            "[1., 2., 3., 4., 5., 6., ]\n",
            "(2, 3)\n",
            "2\n"
          ]
        }
      ]
    },
    {
      "cell_type": "code",
      "source": [
        "#Q13\n",
        "import numpy as np\n",
        "\n",
        "n = 10\n",
        "A = np.array(np.arange(1,n+1))\n",
        "print(A)\n",
        "\n",
        "A = A.reshape(2,5)\n",
        "print(A)\n",
        "\n",
        "A = A.transpose()\n",
        "\n",
        "print(A)"
      ],
      "metadata": {
        "colab": {
          "base_uri": "https://localhost:8080/"
        },
        "id": "9hXpd5-EhKN-",
        "outputId": "96cb8042-e4ca-463b-97fd-5da9645dad77"
      },
      "execution_count": null,
      "outputs": [
        {
          "output_type": "stream",
          "name": "stdout",
          "text": [
            "[ 1  2  3  4  5  6  7  8  9 10]\n",
            "[[ 1  2  3  4  5]\n",
            " [ 6  7  8  9 10]]\n",
            "[[ 1  6]\n",
            " [ 2  7]\n",
            " [ 3  8]\n",
            " [ 4  9]\n",
            " [ 5 10]]\n"
          ]
        }
      ]
    },
    {
      "cell_type": "code",
      "source": [
        "#Q14\n",
        "import numpy as np\n",
        "\n",
        "A = [1,2,3]\n",
        "A = np.array(A)\n",
        "\n",
        "print(type(A))\n",
        "print(A)"
      ],
      "metadata": {
        "colab": {
          "base_uri": "https://localhost:8080/"
        },
        "id": "arVEy4nghP8J",
        "outputId": "1001b880-b921-4077-ddbd-513a5f0e6ab6"
      },
      "execution_count": null,
      "outputs": [
        {
          "output_type": "stream",
          "name": "stdout",
          "text": [
            "<class 'numpy.ndarray'>\n",
            "[1 2 3]\n"
          ]
        }
      ]
    },
    {
      "cell_type": "code",
      "source": [
        "#Q15\n",
        "import numpy as np\n",
        "\n",
        "A = [1,2,3]\n",
        "A.append([9,9,9])\n",
        "print(A)"
      ],
      "metadata": {
        "colab": {
          "base_uri": "https://localhost:8080/"
        },
        "id": "hS0hhnsqhW8b",
        "outputId": "a98f0422-c886-47e2-a369-5c6db7f31edd"
      },
      "execution_count": null,
      "outputs": [
        {
          "output_type": "stream",
          "name": "stdout",
          "text": [
            "[1, 2, 3, [9, 9, 9]]\n"
          ]
        }
      ]
    },
    {
      "cell_type": "code",
      "source": [
        "#Q16\n",
        "A = [2,4,5]\n",
        "\n",
        "sum = 0\n",
        "\n",
        "for i in A:\n",
        "  sum+=i\n",
        "\n",
        "print(sum)"
      ],
      "metadata": {
        "colab": {
          "base_uri": "https://localhost:8080/"
        },
        "id": "B214P9tAhhjF",
        "outputId": "85803876-1803-4b3f-b35e-ae20172385a8"
      },
      "execution_count": null,
      "outputs": [
        {
          "output_type": "stream",
          "name": "stdout",
          "text": [
            "11\n"
          ]
        }
      ]
    },
    {
      "cell_type": "code",
      "source": [
        "#Q17\n",
        "A = [77,74,75]\n",
        "\n",
        "prod = 1\n",
        "\n",
        "for i in A:\n",
        "  prod*=i\n",
        "\n",
        "print(prod)"
      ],
      "metadata": {
        "colab": {
          "base_uri": "https://localhost:8080/"
        },
        "id": "vO-3vv8Zhk4f",
        "outputId": "7fdb886b-a75f-438d-de42-e6f832524279"
      },
      "execution_count": null,
      "outputs": [
        {
          "output_type": "stream",
          "name": "stdout",
          "text": [
            "427350\n"
          ]
        }
      ]
    },
    {
      "cell_type": "code",
      "source": [
        "#Q18\n",
        "import numpy as np\n",
        "\n",
        "A = [2,1,9,1,2,22,1,1,4,55,6,2,56]\n",
        "\n",
        "print(np.mean(A))\n",
        "print(np.var(A))\n",
        "print(max(A))\n",
        "print(min(A))\n",
        "print(np.argmin(A))\n",
        "print(A[(len(A)+1)//2])\n",
        "print(np.argmax(A))\n",
        "print(np.std(A))"
      ],
      "metadata": {
        "colab": {
          "base_uri": "https://localhost:8080/"
        },
        "id": "uzG3Q3OjhsrZ",
        "outputId": "1cc5c639-268a-4d7c-a84f-02d00af549cc"
      },
      "execution_count": null,
      "outputs": [
        {
          "output_type": "stream",
          "name": "stdout",
          "text": [
            "12.461538461538462\n",
            "367.32544378698225\n",
            "56\n",
            "1\n",
            "1\n",
            "1\n",
            "12\n",
            "19.165736192147232\n"
          ]
        }
      ]
    },
    {
      "cell_type": "code",
      "source": [
        "#Q19\n",
        "import numpy as np\n",
        "\n",
        "A = [1, 1, 4, 5, 5, 5, 7]\n",
        "\n",
        "A = np.array(A)\n",
        "\n",
        "B = np.unique(A)\n",
        "print(A)\n",
        "print(B)\n",
        "\n",
        "np.sort(B)\n",
        "print(B)"
      ],
      "metadata": {
        "colab": {
          "base_uri": "https://localhost:8080/"
        },
        "id": "DWDtzYLyhyh2",
        "outputId": "c21295c2-6112-468e-ce35-41e7b227dd3d"
      },
      "execution_count": null,
      "outputs": [
        {
          "output_type": "stream",
          "name": "stdout",
          "text": [
            "[1 1 4 5 5 5 7]\n",
            "[1 4 5 7]\n",
            "[1 4 5 7]\n"
          ]
        }
      ]
    },
    {
      "cell_type": "code",
      "source": [
        "#Q20\n",
        "import numpy as np\n",
        "\n",
        "A=[1,2,3]\n",
        "B=[0,1,1]\n",
        "print(np.dot(A,B))"
      ],
      "metadata": {
        "colab": {
          "base_uri": "https://localhost:8080/"
        },
        "id": "C86huLjPh2Su",
        "outputId": "8ff8f413-ee1d-4ea1-a95c-2b7382ee7572"
      },
      "execution_count": null,
      "outputs": [
        {
          "output_type": "stream",
          "name": "stdout",
          "text": [
            "5\n"
          ]
        }
      ]
    },
    {
      "cell_type": "code",
      "source": [
        "#Q21\n",
        "import numpy as np\n",
        "\n",
        "A = np.array([[2,-12],[1,-5]])\n",
        "W,V = np.linalg.eig(A)\n",
        "print(W)\n",
        "print(V)"
      ],
      "metadata": {
        "colab": {
          "base_uri": "https://localhost:8080/"
        },
        "id": "Ppcm6J2qoij6",
        "outputId": "d1825b19-9313-40c2-e7ba-b31ca87c45b3"
      },
      "execution_count": null,
      "outputs": [
        {
          "output_type": "stream",
          "name": "stdout",
          "text": [
            "[-1. -2.]\n",
            "[[0.9701425  0.9486833 ]\n",
            " [0.24253563 0.31622777]]\n"
          ]
        }
      ]
    },
    {
      "cell_type": "code",
      "source": [
        "#Q22\n",
        "import numpy as np\n",
        "\n",
        "A = [11, 22, 11, 31]\n",
        "B = [25, 33, 31, 28]\n",
        "\n",
        "print(np.corrcoef(A,B))"
      ],
      "metadata": {
        "colab": {
          "base_uri": "https://localhost:8080/"
        },
        "id": "4ji4OUy8w04s",
        "outputId": "dbc61c1b-4e86-409c-f9c3-3a37f10efe48"
      },
      "execution_count": 1,
      "outputs": [
        {
          "output_type": "stream",
          "name": "stdout",
          "text": [
            "[[1.         0.15997968]\n",
            " [0.15997968 1.        ]]\n"
          ]
        }
      ]
    }
  ]
}