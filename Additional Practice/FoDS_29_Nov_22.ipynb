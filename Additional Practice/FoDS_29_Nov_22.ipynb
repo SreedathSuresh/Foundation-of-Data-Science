{
  "nbformat": 4,
  "nbformat_minor": 0,
  "metadata": {
    "colab": {
      "provenance": []
    },
    "kernelspec": {
      "name": "python3",
      "display_name": "Python 3"
    },
    "language_info": {
      "name": "python"
    }
  },
  "cells": [
    {
      "cell_type": "markdown",
      "source": [
        "#HT\n",
        "#Section 1: z-Test"
      ],
      "metadata": {
        "id": "RAhwGIG4ytkv"
      }
    },
    {
      "cell_type": "code",
      "execution_count": 1,
      "metadata": {
        "id": "td3sYDEbxE2B"
      },
      "outputs": [],
      "source": [
        "import numpy as np\n",
        "import scipy.stats as st"
      ]
    },
    {
      "cell_type": "markdown",
      "source": [
        "1.1 : Ages of Medical doctors"
      ],
      "metadata": {
        "id": "1x8CifbFzEwv"
      }
    },
    {
      "cell_type": "code",
      "source": [
        "#h0 -> mean = 46, h1 -> mean > 46\n",
        "n = 30              #random sample\n",
        "rsm = 48.6          #random sample mean\n",
        "m = 46\n",
        "std = 4.2\n",
        "alpha = 0.05"
      ],
      "metadata": {
        "id": "YuLn8yWRzEgm"
      },
      "execution_count": 2,
      "outputs": []
    },
    {
      "cell_type": "code",
      "source": [
        "z_critical = abs(st.norm.ppf(alpha))\n",
        "z_critical"
      ],
      "metadata": {
        "colab": {
          "base_uri": "https://localhost:8080/"
        },
        "id": "mwUOgRXI0A82",
        "outputId": "a2f16bdb-456f-4709-992a-0550197d3f0d"
      },
      "execution_count": 3,
      "outputs": [
        {
          "output_type": "execute_result",
          "data": {
            "text/plain": [
              "1.6448536269514729"
            ]
          },
          "metadata": {},
          "execution_count": 3
        }
      ]
    },
    {
      "cell_type": "code",
      "source": [
        "z = (rsm - m)/(std/np.sqrt(n))\n",
        "z"
      ],
      "metadata": {
        "colab": {
          "base_uri": "https://localhost:8080/"
        },
        "id": "VszGWZDw6d03",
        "outputId": "4e09a401-db58-4ce6-c64b-17b7bf44ba4f"
      },
      "execution_count": 4,
      "outputs": [
        {
          "output_type": "execute_result",
          "data": {
            "text/plain": [
              "3.3906634512224585"
            ]
          },
          "metadata": {},
          "execution_count": 4
        }
      ]
    },
    {
      "cell_type": "code",
      "source": [
        "if z < z_critical :\n",
        "  print(\"Null hypothesis cannot be rejected\")\n",
        "else:\n",
        "    print(\"Reject null hypothesis\")\n"
      ],
      "metadata": {
        "colab": {
          "base_uri": "https://localhost:8080/"
        },
        "id": "-q5XoQuX6o-F",
        "outputId": "92129989-8f77-4e23-d552-48febcdb81c9"
      },
      "execution_count": 5,
      "outputs": [
        {
          "output_type": "stream",
          "name": "stdout",
          "text": [
            "Reject null hypothesis\n"
          ]
        }
      ]
    },
    {
      "cell_type": "markdown",
      "source": [
        "#Section 2: Using P - value\n",
        "2.1 : Wind Speed"
      ],
      "metadata": {
        "id": "KZIvMXUz6_-z"
      }
    },
    {
      "cell_type": "code",
      "source": [
        "# h0: m = 8, h1: m != 8\n",
        "n = 32\n",
        "rsm = 8.2\n",
        "std = 0.6\n",
        "m = 8\n",
        "alpha = 0.05\n"
      ],
      "metadata": {
        "id": "Jj53Vq-56_IL"
      },
      "execution_count": 6,
      "outputs": []
    },
    {
      "cell_type": "code",
      "source": [
        "z = (rsm - m)/(std/np.sqrt(n))\n",
        "z"
      ],
      "metadata": {
        "colab": {
          "base_uri": "https://localhost:8080/"
        },
        "id": "mSph9dWw7qbU",
        "outputId": "ad660987-0ed2-4e66-d489-299da18f4536"
      },
      "execution_count": 7,
      "outputs": [
        {
          "output_type": "execute_result",
          "data": {
            "text/plain": [
              "1.8856180831641203"
            ]
          },
          "metadata": {},
          "execution_count": 7
        }
      ]
    },
    {
      "cell_type": "code",
      "source": [
        "p_val = (1 - st.norm.cdf(abs(z))) * 2\n",
        "p_val"
      ],
      "metadata": {
        "colab": {
          "base_uri": "https://localhost:8080/"
        },
        "id": "Rq3yCcaV71I0",
        "outputId": "ca46d80d-2b35-48b3-b59b-e5c77f29d832"
      },
      "execution_count": 8,
      "outputs": [
        {
          "output_type": "execute_result",
          "data": {
            "text/plain": [
              "0.0593464387919207"
            ]
          },
          "metadata": {},
          "execution_count": 8
        }
      ]
    },
    {
      "cell_type": "code",
      "source": [
        "if (p_val > alpha):\n",
        "    print(\"Null hypothesis cannot be rejected\")\n",
        "else:\n",
        "    print(\"Reject null hypothesis\")"
      ],
      "metadata": {
        "colab": {
          "base_uri": "https://localhost:8080/"
        },
        "id": "UEIj6kOb8Odf",
        "outputId": "d6874349-3520-489b-8ddd-9f69650144c1"
      },
      "execution_count": 9,
      "outputs": [
        {
          "output_type": "stream",
          "name": "stdout",
          "text": [
            "Null hypothesis cannot be rejected\n"
          ]
        }
      ]
    },
    {
      "cell_type": "markdown",
      "source": [
        "#Section 3: t-Test\n",
        "3.1 : Hospital Infections"
      ],
      "metadata": {
        "id": "zuKu4v0p8W9g"
      }
    },
    {
      "cell_type": "code",
      "source": [
        "# h0 -> m = 16.3, h1 -> m != 16.3\n",
        "n = 10\n",
        "dof = n - 1           #dof: degree of freedom\n",
        "rsm = 17.7\n",
        "m = 16.3\n",
        "std = 1.8\n",
        "alpha = 0.05"
      ],
      "metadata": {
        "id": "hUUWhsOO8UxX"
      },
      "execution_count": 10,
      "outputs": []
    },
    {
      "cell_type": "code",
      "source": [
        "t = (rsm - m)/(std/np.sqrt(n))\n",
        "t"
      ],
      "metadata": {
        "colab": {
          "base_uri": "https://localhost:8080/"
        },
        "id": "xlZ5-hDP93vu",
        "outputId": "f3d623a8-ae4f-4811-f79b-6804c5cd532d"
      },
      "execution_count": 11,
      "outputs": [
        {
          "output_type": "execute_result",
          "data": {
            "text/plain": [
              "2.4595492912420704"
            ]
          },
          "metadata": {},
          "execution_count": 11
        }
      ]
    },
    {
      "cell_type": "code",
      "source": [
        "t_critical = st.t.ppf(alpha/2, dof)\n",
        "t_critical"
      ],
      "metadata": {
        "colab": {
          "base_uri": "https://localhost:8080/"
        },
        "id": "H7zEkx55-VGT",
        "outputId": "f2841bf0-77ec-43c6-ba28-2502901d9ec2"
      },
      "execution_count": 12,
      "outputs": [
        {
          "output_type": "execute_result",
          "data": {
            "text/plain": [
              "-2.262157162740992"
            ]
          },
          "metadata": {},
          "execution_count": 12
        }
      ]
    },
    {
      "cell_type": "code",
      "source": [
        "if(abs(t) > abs(t_critical)):\n",
        "    print(\"Null hypothesis cannot be rejected\")\n",
        "else:\n",
        "    print(\"Reject null hypothesis\")"
      ],
      "metadata": {
        "colab": {
          "base_uri": "https://localhost:8080/"
        },
        "id": "506etS3P-3qb",
        "outputId": "97eb65f0-8eaa-4f4c-8b3f-f8bf19ef07c0"
      },
      "execution_count": 13,
      "outputs": [
        {
          "output_type": "stream",
          "name": "stdout",
          "text": [
            "Null hypothesis cannot be rejected\n"
          ]
        }
      ]
    },
    {
      "cell_type": "markdown",
      "source": [
        "#Section 4: t-Test using P-value\n",
        "4.1 : Jogger’s Oxygen Uptake"
      ],
      "metadata": {
        "id": "Oh5q2ACo_akU"
      }
    },
    {
      "cell_type": "code",
      "source": [
        "# h0 -> m = 36.7, h1 -> m > 36.7\n",
        "n = 15\n",
        "dof = n - 1\n",
        "rsm = 40.6\n",
        "m = 36.7\n",
        "std = 6\n",
        "alpha = 0.05"
      ],
      "metadata": {
        "id": "8hxT8Qcr_XH-"
      },
      "execution_count": 14,
      "outputs": []
    },
    {
      "cell_type": "code",
      "source": [
        "t = (rsm - m)/(std / np.sqrt(n))\n",
        "t"
      ],
      "metadata": {
        "colab": {
          "base_uri": "https://localhost:8080/"
        },
        "id": "k8BKpiuVARQ5",
        "outputId": "df4547cc-6a2f-41a2-97e3-1b02bba74011"
      },
      "execution_count": 15,
      "outputs": [
        {
          "output_type": "execute_result",
          "data": {
            "text/plain": [
              "2.51743917503482"
            ]
          },
          "metadata": {},
          "execution_count": 15
        }
      ]
    },
    {
      "cell_type": "code",
      "source": [
        "p_val = (1 - st.t.cdf(abs(t), dof))\n",
        "p_val"
      ],
      "metadata": {
        "colab": {
          "base_uri": "https://localhost:8080/"
        },
        "id": "ZUaLrEWiAbXr",
        "outputId": "672f3055-afbb-432d-b12c-22f5cac2a564"
      },
      "execution_count": 16,
      "outputs": [
        {
          "output_type": "execute_result",
          "data": {
            "text/plain": [
              "0.012311189053656801"
            ]
          },
          "metadata": {},
          "execution_count": 16
        }
      ]
    },
    {
      "cell_type": "code",
      "source": [
        "if(p_val > alpha):\n",
        "  print(\"Null hypothesis cannot be rejected\")\n",
        "else:\n",
        "  print(\"Reject null hypothesis\")"
      ],
      "metadata": {
        "colab": {
          "base_uri": "https://localhost:8080/"
        },
        "id": "bjOT01smAnnO",
        "outputId": "3314fbd6-26a1-4784-b518-f9136d05dc7a"
      },
      "execution_count": 17,
      "outputs": [
        {
          "output_type": "stream",
          "name": "stdout",
          "text": [
            "Reject null hypothesis\n"
          ]
        }
      ]
    },
    {
      "cell_type": "code",
      "source": [],
      "metadata": {
        "id": "cLM-woITXxN2"
      },
      "execution_count": null,
      "outputs": []
    },
    {
      "cell_type": "markdown",
      "source": [
        "#Robert Swain's Trial"
      ],
      "metadata": {
        "id": "RlCREdERXz2e"
      }
    },
    {
      "cell_type": "code",
      "source": [
        "ep = [0.26, 0.74]"
      ],
      "metadata": {
        "id": "0kaizlMGX5FL"
      },
      "execution_count": 1,
      "outputs": []
    },
    {
      "cell_type": "code",
      "source": [
        "import numpy as np\n",
        "import numpy.random as npr"
      ],
      "metadata": {
        "id": "7xxkmztnZC4O"
      },
      "execution_count": 3,
      "outputs": []
    },
    {
      "cell_type": "code",
      "source": [
        "npr.binomial(100, 0.26)"
      ],
      "metadata": {
        "colab": {
          "base_uri": "https://localhost:8080/"
        },
        "id": "N4cbmZIHZLFY",
        "outputId": "cea8ea48-a425-42e0-8d81-842c04a91141"
      },
      "execution_count": 31,
      "outputs": [
        {
          "output_type": "execute_result",
          "data": {
            "text/plain": [
              "26"
            ]
          },
          "metadata": {},
          "execution_count": 31
        }
      ]
    },
    {
      "cell_type": "code",
      "source": [
        "sim = 100\n",
        "for i in np.arange(sim):\n",
        "  black_pop = npr.binomial(100, 0.26, sim)\n",
        "black_pop"
      ],
      "metadata": {
        "colab": {
          "base_uri": "https://localhost:8080/"
        },
        "id": "GYfsIl6VZtVq",
        "outputId": "c916f6d4-374f-464e-cecd-84b5f344086b"
      },
      "execution_count": 46,
      "outputs": [
        {
          "output_type": "execute_result",
          "data": {
            "text/plain": [
              "array([18, 22, 18, 34, 35, 31, 30, 30, 26, 26, 25, 26, 26, 30, 33, 28, 31,\n",
              "       27, 27, 34, 23, 28, 23, 26, 23, 15, 34, 28, 23, 33, 23, 26, 33, 25,\n",
              "       27, 32, 20, 23, 15, 27, 23, 23, 22, 26, 29, 26, 25, 31, 25, 39, 25,\n",
              "       24, 31, 32, 28, 26, 23, 21, 26, 28, 23, 22, 32, 27, 28, 29, 33, 27,\n",
              "       27, 31, 22, 35, 21, 24, 25, 33, 30, 28, 19, 33, 25, 22, 19, 31, 29,\n",
              "       24, 22, 22, 30, 24, 27, 25, 33, 28, 21, 38, 26, 18, 24, 24])"
            ]
          },
          "metadata": {},
          "execution_count": 46
        }
      ]
    },
    {
      "cell_type": "code",
      "source": [
        "%matplotlib inline\n",
        "import pandas as pd\n",
        "panel = pd.DataFrame(black_pop)\n",
        "panel.head()"
      ],
      "metadata": {
        "colab": {
          "base_uri": "https://localhost:8080/",
          "height": 206
        },
        "id": "GZfGnuP_aIWS",
        "outputId": "fe83b7f3-58ee-4172-e597-77583e0d65fb"
      },
      "execution_count": 47,
      "outputs": [
        {
          "output_type": "execute_result",
          "data": {
            "text/plain": [
              "    0\n",
              "0  18\n",
              "1  22\n",
              "2  18\n",
              "3  34\n",
              "4  35"
            ],
            "text/html": [
              "\n",
              "  <div id=\"df-44069146-fc4b-4aad-b4a4-24772cace55e\">\n",
              "    <div class=\"colab-df-container\">\n",
              "      <div>\n",
              "<style scoped>\n",
              "    .dataframe tbody tr th:only-of-type {\n",
              "        vertical-align: middle;\n",
              "    }\n",
              "\n",
              "    .dataframe tbody tr th {\n",
              "        vertical-align: top;\n",
              "    }\n",
              "\n",
              "    .dataframe thead th {\n",
              "        text-align: right;\n",
              "    }\n",
              "</style>\n",
              "<table border=\"1\" class=\"dataframe\">\n",
              "  <thead>\n",
              "    <tr style=\"text-align: right;\">\n",
              "      <th></th>\n",
              "      <th>0</th>\n",
              "    </tr>\n",
              "  </thead>\n",
              "  <tbody>\n",
              "    <tr>\n",
              "      <th>0</th>\n",
              "      <td>18</td>\n",
              "    </tr>\n",
              "    <tr>\n",
              "      <th>1</th>\n",
              "      <td>22</td>\n",
              "    </tr>\n",
              "    <tr>\n",
              "      <th>2</th>\n",
              "      <td>18</td>\n",
              "    </tr>\n",
              "    <tr>\n",
              "      <th>3</th>\n",
              "      <td>34</td>\n",
              "    </tr>\n",
              "    <tr>\n",
              "      <th>4</th>\n",
              "      <td>35</td>\n",
              "    </tr>\n",
              "  </tbody>\n",
              "</table>\n",
              "</div>\n",
              "      <button class=\"colab-df-convert\" onclick=\"convertToInteractive('df-44069146-fc4b-4aad-b4a4-24772cace55e')\"\n",
              "              title=\"Convert this dataframe to an interactive table.\"\n",
              "              style=\"display:none;\">\n",
              "        \n",
              "  <svg xmlns=\"http://www.w3.org/2000/svg\" height=\"24px\"viewBox=\"0 0 24 24\"\n",
              "       width=\"24px\">\n",
              "    <path d=\"M0 0h24v24H0V0z\" fill=\"none\"/>\n",
              "    <path d=\"M18.56 5.44l.94 2.06.94-2.06 2.06-.94-2.06-.94-.94-2.06-.94 2.06-2.06.94zm-11 1L8.5 8.5l.94-2.06 2.06-.94-2.06-.94L8.5 2.5l-.94 2.06-2.06.94zm10 10l.94 2.06.94-2.06 2.06-.94-2.06-.94-.94-2.06-.94 2.06-2.06.94z\"/><path d=\"M17.41 7.96l-1.37-1.37c-.4-.4-.92-.59-1.43-.59-.52 0-1.04.2-1.43.59L10.3 9.45l-7.72 7.72c-.78.78-.78 2.05 0 2.83L4 21.41c.39.39.9.59 1.41.59.51 0 1.02-.2 1.41-.59l7.78-7.78 2.81-2.81c.8-.78.8-2.07 0-2.86zM5.41 20L4 18.59l7.72-7.72 1.47 1.35L5.41 20z\"/>\n",
              "  </svg>\n",
              "      </button>\n",
              "      \n",
              "  <style>\n",
              "    .colab-df-container {\n",
              "      display:flex;\n",
              "      flex-wrap:wrap;\n",
              "      gap: 12px;\n",
              "    }\n",
              "\n",
              "    .colab-df-convert {\n",
              "      background-color: #E8F0FE;\n",
              "      border: none;\n",
              "      border-radius: 50%;\n",
              "      cursor: pointer;\n",
              "      display: none;\n",
              "      fill: #1967D2;\n",
              "      height: 32px;\n",
              "      padding: 0 0 0 0;\n",
              "      width: 32px;\n",
              "    }\n",
              "\n",
              "    .colab-df-convert:hover {\n",
              "      background-color: #E2EBFA;\n",
              "      box-shadow: 0px 1px 2px rgba(60, 64, 67, 0.3), 0px 1px 3px 1px rgba(60, 64, 67, 0.15);\n",
              "      fill: #174EA6;\n",
              "    }\n",
              "\n",
              "    [theme=dark] .colab-df-convert {\n",
              "      background-color: #3B4455;\n",
              "      fill: #D2E3FC;\n",
              "    }\n",
              "\n",
              "    [theme=dark] .colab-df-convert:hover {\n",
              "      background-color: #434B5C;\n",
              "      box-shadow: 0px 1px 3px 1px rgba(0, 0, 0, 0.15);\n",
              "      filter: drop-shadow(0px 1px 2px rgba(0, 0, 0, 0.3));\n",
              "      fill: #FFFFFF;\n",
              "    }\n",
              "  </style>\n",
              "\n",
              "      <script>\n",
              "        const buttonEl =\n",
              "          document.querySelector('#df-44069146-fc4b-4aad-b4a4-24772cace55e button.colab-df-convert');\n",
              "        buttonEl.style.display =\n",
              "          google.colab.kernel.accessAllowed ? 'block' : 'none';\n",
              "\n",
              "        async function convertToInteractive(key) {\n",
              "          const element = document.querySelector('#df-44069146-fc4b-4aad-b4a4-24772cace55e');\n",
              "          const dataTable =\n",
              "            await google.colab.kernel.invokeFunction('convertToInteractive',\n",
              "                                                     [key], {});\n",
              "          if (!dataTable) return;\n",
              "\n",
              "          const docLinkHtml = 'Like what you see? Visit the ' +\n",
              "            '<a target=\"_blank\" href=https://colab.research.google.com/notebooks/data_table.ipynb>data table notebook</a>'\n",
              "            + ' to learn more about interactive tables.';\n",
              "          element.innerHTML = '';\n",
              "          dataTable['output_type'] = 'display_data';\n",
              "          await google.colab.output.renderOutput(dataTable, element);\n",
              "          const docLink = document.createElement('div');\n",
              "          docLink.innerHTML = docLinkHtml;\n",
              "          element.appendChild(docLink);\n",
              "        }\n",
              "      </script>\n",
              "    </div>\n",
              "  </div>\n",
              "  "
            ]
          },
          "metadata": {},
          "execution_count": 47
        }
      ]
    },
    {
      "cell_type": "code",
      "source": [
        "panel.min()"
      ],
      "metadata": {
        "colab": {
          "base_uri": "https://localhost:8080/"
        },
        "id": "05REEczkaNA4",
        "outputId": "ee5c24e1-bdd2-4338-c5d4-084412f605f9"
      },
      "execution_count": 53,
      "outputs": [
        {
          "output_type": "execute_result",
          "data": {
            "text/plain": [
              "0    15\n",
              "dtype: int64"
            ]
          },
          "metadata": {},
          "execution_count": 53
        }
      ]
    },
    {
      "cell_type": "code",
      "source": [
        "panel.max()"
      ],
      "metadata": {
        "colab": {
          "base_uri": "https://localhost:8080/"
        },
        "id": "t4-Yh9bYcb3D",
        "outputId": "71dce7dc-bb24-4530-df64-0efc901e57ac"
      },
      "execution_count": 54,
      "outputs": [
        {
          "output_type": "execute_result",
          "data": {
            "text/plain": [
              "0    39\n",
              "dtype: int64"
            ]
          },
          "metadata": {},
          "execution_count": 54
        }
      ]
    },
    {
      "cell_type": "code",
      "source": [
        "import matplotlib.pyplot as plt\n",
        "panel.hist()\n",
        "plt.title('Statistic')\n",
        "plt.xlabel('Count in a Random Sample %', fontsize = 15)\n",
        "plt.ylabel('Unit', fontsize = 15)\n",
        "plt.scatter(8, 0, color='green', s = 50)"
      ],
      "metadata": {
        "colab": {
          "base_uri": "https://localhost:8080/",
          "height": 317
        },
        "id": "-sqG0GnuaiKe",
        "outputId": "ed969d61-e281-40ca-cb4a-f34909cd35de"
      },
      "execution_count": 50,
      "outputs": [
        {
          "output_type": "execute_result",
          "data": {
            "text/plain": [
              "<matplotlib.collections.PathCollection at 0x7fcd602a5e50>"
            ]
          },
          "metadata": {},
          "execution_count": 50
        },
        {
          "output_type": "display_data",
          "data": {
            "text/plain": [
              "<Figure size 432x288 with 1 Axes>"
            ],
            "image/png": "[encoded data removed]"
          },
          "metadata": {
            "needs_background": "light"
          }
        }
      ]
    },
    {
      "cell_type": "markdown",
      "source": [
        "Inference: 8 is way too low compared to the simulation of 100 times in which the number of black jurors were randomly selected that ranges from 15 to 39.\n",
        "\n",
        "Therefore, it is evidence that Swain's jury panel was not sampled randomly from the population of eligible jurors."
      ],
      "metadata": {
        "id": "C9X9qaL4cgJL"
      }
    },
    {
      "cell_type": "code",
      "source": [],
      "metadata": {
        "id": "7_wh3C6PfQMJ"
      },
      "execution_count": null,
      "outputs": []
    },
    {
      "cell_type": "markdown",
      "source": [
        "#Jury Alameda County"
      ],
      "metadata": {
        "id": "WJtdWSR9fT6T"
      }
    },
    {
      "cell_type": "code",
      "source": [
        "# h0 -> Panels were selected at random from the population of eligible jurors.\n",
        "\n",
        "# h1 -> Panels were not selected at random\n",
        "\n",
        "import pandas as pd\n",
        "import matplotlib.pyplot as plt\n",
        "%matplotlib inline\n",
        "import numpy as np\n",
        "\n",
        "jury = {\"Ethnicity\":[\"Asian\",\"Black\",\"Latino\",\"White\",\"Other\"], \"Eligible\":[0.15,0.18,0.12,0.54,0.01],\"Panels\":[0.26,0.08,0.08,0.54,0.04]}\n",
        "jury"
      ],
      "metadata": {
        "colab": {
          "base_uri": "https://localhost:8080/"
        },
        "id": "_Wd3cb5ZfS5h",
        "outputId": "67165939-4500-43a9-ed0f-8e2d0ba594ae"
      },
      "execution_count": 2,
      "outputs": [
        {
          "output_type": "execute_result",
          "data": {
            "text/plain": [
              "{'Ethnicity': ['Asian', 'Black', 'Latino', 'White', 'Other'],\n",
              " 'Eligible': [0.15, 0.18, 0.12, 0.54, 0.01],\n",
              " 'Panels': [0.26, 0.08, 0.08, 0.54, 0.04]}"
            ]
          },
          "metadata": {},
          "execution_count": 2
        }
      ]
    },
    {
      "cell_type": "code",
      "source": [
        "Alameda = pd.DataFrame(jury)\n",
        "Alameda"
      ],
      "metadata": {
        "colab": {
          "base_uri": "https://localhost:8080/",
          "height": 206
        },
        "id": "3_9iUm1Nlg5D",
        "outputId": "536ed908-6dae-4b06-e4ec-5a06ff74fed7"
      },
      "execution_count": 3,
      "outputs": [
        {
          "output_type": "execute_result",
          "data": {
            "text/plain": [
              "  Ethnicity  Eligible  Panels\n",
              "0     Asian      0.15    0.26\n",
              "1     Black      0.18    0.08\n",
              "2    Latino      0.12    0.08\n",
              "3     White      0.54    0.54\n",
              "4     Other      0.01    0.04"
            ],
            "text/html": [
              "\n",
              "  <div id=\"df-94403614-dc24-4ee8-b662-d278ce02fe5c\">\n",
              "    <div class=\"colab-df-container\">\n",
              "      <div>\n",
              "<style scoped>\n",
              "    .dataframe tbody tr th:only-of-type {\n",
              "        vertical-align: middle;\n",
              "    }\n",
              "\n",
              "    .dataframe tbody tr th {\n",
              "        vertical-align: top;\n",
              "    }\n",
              "\n",
              "    .dataframe thead th {\n",
              "        text-align: right;\n",
              "    }\n",
              "</style>\n",
              "<table border=\"1\" class=\"dataframe\">\n",
              "  <thead>\n",
              "    <tr style=\"text-align: right;\">\n",
              "      <th></th>\n",
              "      <th>Ethnicity</th>\n",
              "      <th>Eligible</th>\n",
              "      <th>Panels</th>\n",
              "    </tr>\n",
              "  </thead>\n",
              "  <tbody>\n",
              "    <tr>\n",
              "      <th>0</th>\n",
              "      <td>Asian</td>\n",
              "      <td>0.15</td>\n",
              "      <td>0.26</td>\n",
              "    </tr>\n",
              "    <tr>\n",
              "      <th>1</th>\n",
              "      <td>Black</td>\n",
              "      <td>0.18</td>\n",
              "      <td>0.08</td>\n",
              "    </tr>\n",
              "    <tr>\n",
              "      <th>2</th>\n",
              "      <td>Latino</td>\n",
              "      <td>0.12</td>\n",
              "      <td>0.08</td>\n",
              "    </tr>\n",
              "    <tr>\n",
              "      <th>3</th>\n",
              "      <td>White</td>\n",
              "      <td>0.54</td>\n",
              "      <td>0.54</td>\n",
              "    </tr>\n",
              "    <tr>\n",
              "      <th>4</th>\n",
              "      <td>Other</td>\n",
              "      <td>0.01</td>\n",
              "      <td>0.04</td>\n",
              "    </tr>\n",
              "  </tbody>\n",
              "</table>\n",
              "</div>\n",
              "      <button class=\"colab-df-convert\" onclick=\"convertToInteractive('df-94403614-dc24-4ee8-b662-d278ce02fe5c')\"\n",
              "              title=\"Convert this dataframe to an interactive table.\"\n",
              "              style=\"display:none;\">\n",
              "        \n",
              "  <svg xmlns=\"http://www.w3.org/2000/svg\" height=\"24px\"viewBox=\"0 0 24 24\"\n",
              "       width=\"24px\">\n",
              "    <path d=\"M0 0h24v24H0V0z\" fill=\"none\"/>\n",
              "    <path d=\"M18.56 5.44l.94 2.06.94-2.06 2.06-.94-2.06-.94-.94-2.06-.94 2.06-2.06.94zm-11 1L8.5 8.5l.94-2.06 2.06-.94-2.06-.94L8.5 2.5l-.94 2.06-2.06.94zm10 10l.94 2.06.94-2.06 2.06-.94-2.06-.94-.94-2.06-.94 2.06-2.06.94z\"/><path d=\"M17.41 7.96l-1.37-1.37c-.4-.4-.92-.59-1.43-.59-.52 0-1.04.2-1.43.59L10.3 9.45l-7.72 7.72c-.78.78-.78 2.05 0 2.83L4 21.41c.39.39.9.59 1.41.59.51 0 1.02-.2 1.41-.59l7.78-7.78 2.81-2.81c.8-.78.8-2.07 0-2.86zM5.41 20L4 18.59l7.72-7.72 1.47 1.35L5.41 20z\"/>\n",
              "  </svg>\n",
              "      </button>\n",
              "      \n",
              "  <style>\n",
              "    .colab-df-container {\n",
              "      display:flex;\n",
              "      flex-wrap:wrap;\n",
              "      gap: 12px;\n",
              "    }\n",
              "\n",
              "    .colab-df-convert {\n",
              "      background-color: #E8F0FE;\n",
              "      border: none;\n",
              "      border-radius: 50%;\n",
              "      cursor: pointer;\n",
              "      display: none;\n",
              "      fill: #1967D2;\n",
              "      height: 32px;\n",
              "      padding: 0 0 0 0;\n",
              "      width: 32px;\n",
              "    }\n",
              "\n",
              "    .colab-df-convert:hover {\n",
              "      background-color: #E2EBFA;\n",
              "      box-shadow: 0px 1px 2px rgba(60, 64, 67, 0.3), 0px 1px 3px 1px rgba(60, 64, 67, 0.15);\n",
              "      fill: #174EA6;\n",
              "    }\n",
              "\n",
              "    [theme=dark] .colab-df-convert {\n",
              "      background-color: #3B4455;\n",
              "      fill: #D2E3FC;\n",
              "    }\n",
              "\n",
              "    [theme=dark] .colab-df-convert:hover {\n",
              "      background-color: #434B5C;\n",
              "      box-shadow: 0px 1px 3px 1px rgba(0, 0, 0, 0.15);\n",
              "      filter: drop-shadow(0px 1px 2px rgba(0, 0, 0, 0.3));\n",
              "      fill: #FFFFFF;\n",
              "    }\n",
              "  </style>\n",
              "\n",
              "      <script>\n",
              "        const buttonEl =\n",
              "          document.querySelector('#df-94403614-dc24-4ee8-b662-d278ce02fe5c button.colab-df-convert');\n",
              "        buttonEl.style.display =\n",
              "          google.colab.kernel.accessAllowed ? 'block' : 'none';\n",
              "\n",
              "        async function convertToInteractive(key) {\n",
              "          const element = document.querySelector('#df-94403614-dc24-4ee8-b662-d278ce02fe5c');\n",
              "          const dataTable =\n",
              "            await google.colab.kernel.invokeFunction('convertToInteractive',\n",
              "                                                     [key], {});\n",
              "          if (!dataTable) return;\n",
              "\n",
              "          const docLinkHtml = 'Like what you see? Visit the ' +\n",
              "            '<a target=\"_blank\" href=https://colab.research.google.com/notebooks/data_table.ipynb>data table notebook</a>'\n",
              "            + ' to learn more about interactive tables.';\n",
              "          element.innerHTML = '';\n",
              "          dataTable['output_type'] = 'display_data';\n",
              "          await google.colab.output.renderOutput(dataTable, element);\n",
              "          const docLink = document.createElement('div');\n",
              "          docLink.innerHTML = docLinkHtml;\n",
              "          element.appendChild(docLink);\n",
              "        }\n",
              "      </script>\n",
              "    </div>\n",
              "  </div>\n",
              "  "
            ]
          },
          "metadata": {},
          "execution_count": 3
        }
      ]
    },
    {
      "cell_type": "code",
      "source": [
        "Alameda1 = Alameda.set_index(\"Ethnicity\")\n",
        "Alameda1"
      ],
      "metadata": {
        "colab": {
          "base_uri": "https://localhost:8080/",
          "height": 237
        },
        "id": "fdcmrr4Ulv-c",
        "outputId": "1004ae0e-1492-404d-c846-9b39bed7129a"
      },
      "execution_count": 4,
      "outputs": [
        {
          "output_type": "execute_result",
          "data": {
            "text/plain": [
              "           Eligible  Panels\n",
              "Ethnicity                  \n",
              "Asian          0.15    0.26\n",
              "Black          0.18    0.08\n",
              "Latino         0.12    0.08\n",
              "White          0.54    0.54\n",
              "Other          0.01    0.04"
            ],
            "text/html": [
              "\n",
              "  <div id=\"df-9b6cfcc3-3288-4260-9540-602d6ef0707f\">\n",
              "    <div class=\"colab-df-container\">\n",
              "      <div>\n",
              "<style scoped>\n",
              "    .dataframe tbody tr th:only-of-type {\n",
              "        vertical-align: middle;\n",
              "    }\n",
              "\n",
              "    .dataframe tbody tr th {\n",
              "        vertical-align: top;\n",
              "    }\n",
              "\n",
              "    .dataframe thead th {\n",
              "        text-align: right;\n",
              "    }\n",
              "</style>\n",
              "<table border=\"1\" class=\"dataframe\">\n",
              "  <thead>\n",
              "    <tr style=\"text-align: right;\">\n",
              "      <th></th>\n",
              "      <th>Eligible</th>\n",
              "      <th>Panels</th>\n",
              "    </tr>\n",
              "    <tr>\n",
              "      <th>Ethnicity</th>\n",
              "      <th></th>\n",
              "      <th></th>\n",
              "    </tr>\n",
              "  </thead>\n",
              "  <tbody>\n",
              "    <tr>\n",
              "      <th>Asian</th>\n",
              "      <td>0.15</td>\n",
              "      <td>0.26</td>\n",
              "    </tr>\n",
              "    <tr>\n",
              "      <th>Black</th>\n",
              "      <td>0.18</td>\n",
              "      <td>0.08</td>\n",
              "    </tr>\n",
              "    <tr>\n",
              "      <th>Latino</th>\n",
              "      <td>0.12</td>\n",
              "      <td>0.08</td>\n",
              "    </tr>\n",
              "    <tr>\n",
              "      <th>White</th>\n",
              "      <td>0.54</td>\n",
              "      <td>0.54</td>\n",
              "    </tr>\n",
              "    <tr>\n",
              "      <th>Other</th>\n",
              "      <td>0.01</td>\n",
              "      <td>0.04</td>\n",
              "    </tr>\n",
              "  </tbody>\n",
              "</table>\n",
              "</div>\n",
              "      <button class=\"colab-df-convert\" onclick=\"convertToInteractive('df-9b6cfcc3-3288-4260-9540-602d6ef0707f')\"\n",
              "              title=\"Convert this dataframe to an interactive table.\"\n",
              "              style=\"display:none;\">\n",
              "        \n",
              "  <svg xmlns=\"http://www.w3.org/2000/svg\" height=\"24px\"viewBox=\"0 0 24 24\"\n",
              "       width=\"24px\">\n",
              "    <path d=\"M0 0h24v24H0V0z\" fill=\"none\"/>\n",
              "    <path d=\"M18.56 5.44l.94 2.06.94-2.06 2.06-.94-2.06-.94-.94-2.06-.94 2.06-2.06.94zm-11 1L8.5 8.5l.94-2.06 2.06-.94-2.06-.94L8.5 2.5l-.94 2.06-2.06.94zm10 10l.94 2.06.94-2.06 2.06-.94-2.06-.94-.94-2.06-.94 2.06-2.06.94z\"/><path d=\"M17.41 7.96l-1.37-1.37c-.4-.4-.92-.59-1.43-.59-.52 0-1.04.2-1.43.59L10.3 9.45l-7.72 7.72c-.78.78-.78 2.05 0 2.83L4 21.41c.39.39.9.59 1.41.59.51 0 1.02-.2 1.41-.59l7.78-7.78 2.81-2.81c.8-.78.8-2.07 0-2.86zM5.41 20L4 18.59l7.72-7.72 1.47 1.35L5.41 20z\"/>\n",
              "  </svg>\n",
              "      </button>\n",
              "      \n",
              "  <style>\n",
              "    .colab-df-container {\n",
              "      display:flex;\n",
              "      flex-wrap:wrap;\n",
              "      gap: 12px;\n",
              "    }\n",
              "\n",
              "    .colab-df-convert {\n",
              "      background-color: #E8F0FE;\n",
              "      border: none;\n",
              "      border-radius: 50%;\n",
              "      cursor: pointer;\n",
              "      display: none;\n",
              "      fill: #1967D2;\n",
              "      height: 32px;\n",
              "      padding: 0 0 0 0;\n",
              "      width: 32px;\n",
              "    }\n",
              "\n",
              "    .colab-df-convert:hover {\n",
              "      background-color: #E2EBFA;\n",
              "      box-shadow: 0px 1px 2px rgba(60, 64, 67, 0.3), 0px 1px 3px 1px rgba(60, 64, 67, 0.15);\n",
              "      fill: #174EA6;\n",
              "    }\n",
              "\n",
              "    [theme=dark] .colab-df-convert {\n",
              "      background-color: #3B4455;\n",
              "      fill: #D2E3FC;\n",
              "    }\n",
              "\n",
              "    [theme=dark] .colab-df-convert:hover {\n",
              "      background-color: #434B5C;\n",
              "      box-shadow: 0px 1px 3px 1px rgba(0, 0, 0, 0.15);\n",
              "      filter: drop-shadow(0px 1px 2px rgba(0, 0, 0, 0.3));\n",
              "      fill: #FFFFFF;\n",
              "    }\n",
              "  </style>\n",
              "\n",
              "      <script>\n",
              "        const buttonEl =\n",
              "          document.querySelector('#df-9b6cfcc3-3288-4260-9540-602d6ef0707f button.colab-df-convert');\n",
              "        buttonEl.style.display =\n",
              "          google.colab.kernel.accessAllowed ? 'block' : 'none';\n",
              "\n",
              "        async function convertToInteractive(key) {\n",
              "          const element = document.querySelector('#df-9b6cfcc3-3288-4260-9540-602d6ef0707f');\n",
              "          const dataTable =\n",
              "            await google.colab.kernel.invokeFunction('convertToInteractive',\n",
              "                                                     [key], {});\n",
              "          if (!dataTable) return;\n",
              "\n",
              "          const docLinkHtml = 'Like what you see? Visit the ' +\n",
              "            '<a target=\"_blank\" href=https://colab.research.google.com/notebooks/data_table.ipynb>data table notebook</a>'\n",
              "            + ' to learn more about interactive tables.';\n",
              "          element.innerHTML = '';\n",
              "          dataTable['output_type'] = 'display_data';\n",
              "          await google.colab.output.renderOutput(dataTable, element);\n",
              "          const docLink = document.createElement('div');\n",
              "          docLink.innerHTML = docLinkHtml;\n",
              "          element.appendChild(docLink);\n",
              "        }\n",
              "      </script>\n",
              "    </div>\n",
              "  </div>\n",
              "  "
            ]
          },
          "metadata": {},
          "execution_count": 4
        }
      ]
    },
    {
      "cell_type": "code",
      "source": [
        "Alameda1.plot.barh()\n",
        "plt.ylabel(\"Ethnicity\")\n",
        "plt.gca().invert_yaxis()"
      ],
      "metadata": {
        "colab": {
          "base_uri": "https://localhost:8080/",
          "height": 265
        },
        "id": "NFyfLb6AmHVi",
        "outputId": "e6eff671-81b7-4f0d-a0f4-de0949ccd841"
      },
      "execution_count": 5,
      "outputs": [
        {
          "output_type": "display_data",
          "data": {
            "text/plain": [
              "<Figure size 432x288 with 1 Axes>"
            ],
            "image/png": "[encoded data removed]"
          },
          "metadata": {
            "needs_background": "light"
          }
        }
      ]
    },
    {
      "cell_type": "code",
      "source": [
        "Alameda1['Jury Diff'] = Alameda1['Panels']-Alameda1[\"Eligible\"]\n",
        "Alameda1"
      ],
      "metadata": {
        "colab": {
          "base_uri": "https://localhost:8080/",
          "height": 237
        },
        "id": "zEndB4Nymzrs",
        "outputId": "ea8fd0fc-e882-4cd0-8efd-f5963cb659c9"
      },
      "execution_count": 62,
      "outputs": [
        {
          "output_type": "execute_result",
          "data": {
            "text/plain": [
              "           Eligible  Panels  Jury Diff\n",
              "Ethnicity                             \n",
              "Asian          0.15    0.26       0.11\n",
              "Black          0.18    0.08      -0.10\n",
              "Latino         0.12    0.08      -0.04\n",
              "White          0.54    0.54       0.00\n",
              "Other          0.01    0.04       0.03"
            ],
            "text/html": [
              "\n",
              "  <div id=\"df-2113c1cd-381a-4360-a9ef-47288b0f212a\">\n",
              "    <div class=\"colab-df-container\">\n",
              "      <div>\n",
              "<style scoped>\n",
              "    .dataframe tbody tr th:only-of-type {\n",
              "        vertical-align: middle;\n",
              "    }\n",
              "\n",
              "    .dataframe tbody tr th {\n",
              "        vertical-align: top;\n",
              "    }\n",
              "\n",
              "    .dataframe thead th {\n",
              "        text-align: right;\n",
              "    }\n",
              "</style>\n",
              "<table border=\"1\" class=\"dataframe\">\n",
              "  <thead>\n",
              "    <tr style=\"text-align: right;\">\n",
              "      <th></th>\n",
              "      <th>Eligible</th>\n",
              "      <th>Panels</th>\n",
              "      <th>Jury Diff</th>\n",
              "    </tr>\n",
              "    <tr>\n",
              "      <th>Ethnicity</th>\n",
              "      <th></th>\n",
              "      <th></th>\n",
              "      <th></th>\n",
              "    </tr>\n",
              "  </thead>\n",
              "  <tbody>\n",
              "    <tr>\n",
              "      <th>Asian</th>\n",
              "      <td>0.15</td>\n",
              "      <td>0.26</td>\n",
              "      <td>0.11</td>\n",
              "    </tr>\n",
              "    <tr>\n",
              "      <th>Black</th>\n",
              "      <td>0.18</td>\n",
              "      <td>0.08</td>\n",
              "      <td>-0.10</td>\n",
              "    </tr>\n",
              "    <tr>\n",
              "      <th>Latino</th>\n",
              "      <td>0.12</td>\n",
              "      <td>0.08</td>\n",
              "      <td>-0.04</td>\n",
              "    </tr>\n",
              "    <tr>\n",
              "      <th>White</th>\n",
              "      <td>0.54</td>\n",
              "      <td>0.54</td>\n",
              "      <td>0.00</td>\n",
              "    </tr>\n",
              "    <tr>\n",
              "      <th>Other</th>\n",
              "      <td>0.01</td>\n",
              "      <td>0.04</td>\n",
              "      <td>0.03</td>\n",
              "    </tr>\n",
              "  </tbody>\n",
              "</table>\n",
              "</div>\n",
              "      <button class=\"colab-df-convert\" onclick=\"convertToInteractive('df-2113c1cd-381a-4360-a9ef-47288b0f212a')\"\n",
              "              title=\"Convert this dataframe to an interactive table.\"\n",
              "              style=\"display:none;\">\n",
              "        \n",
              "  <svg xmlns=\"http://www.w3.org/2000/svg\" height=\"24px\"viewBox=\"0 0 24 24\"\n",
              "       width=\"24px\">\n",
              "    <path d=\"M0 0h24v24H0V0z\" fill=\"none\"/>\n",
              "    <path d=\"M18.56 5.44l.94 2.06.94-2.06 2.06-.94-2.06-.94-.94-2.06-.94 2.06-2.06.94zm-11 1L8.5 8.5l.94-2.06 2.06-.94-2.06-.94L8.5 2.5l-.94 2.06-2.06.94zm10 10l.94 2.06.94-2.06 2.06-.94-2.06-.94-.94-2.06-.94 2.06-2.06.94z\"/><path d=\"M17.41 7.96l-1.37-1.37c-.4-.4-.92-.59-1.43-.59-.52 0-1.04.2-1.43.59L10.3 9.45l-7.72 7.72c-.78.78-.78 2.05 0 2.83L4 21.41c.39.39.9.59 1.41.59.51 0 1.02-.2 1.41-.59l7.78-7.78 2.81-2.81c.8-.78.8-2.07 0-2.86zM5.41 20L4 18.59l7.72-7.72 1.47 1.35L5.41 20z\"/>\n",
              "  </svg>\n",
              "      </button>\n",
              "      \n",
              "  <style>\n",
              "    .colab-df-container {\n",
              "      display:flex;\n",
              "      flex-wrap:wrap;\n",
              "      gap: 12px;\n",
              "    }\n",
              "\n",
              "    .colab-df-convert {\n",
              "      background-color: #E8F0FE;\n",
              "      border: none;\n",
              "      border-radius: 50%;\n",
              "      cursor: pointer;\n",
              "      display: none;\n",
              "      fill: #1967D2;\n",
              "      height: 32px;\n",
              "      padding: 0 0 0 0;\n",
              "      width: 32px;\n",
              "    }\n",
              "\n",
              "    .colab-df-convert:hover {\n",
              "      background-color: #E2EBFA;\n",
              "      box-shadow: 0px 1px 2px rgba(60, 64, 67, 0.3), 0px 1px 3px 1px rgba(60, 64, 67, 0.15);\n",
              "      fill: #174EA6;\n",
              "    }\n",
              "\n",
              "    [theme=dark] .colab-df-convert {\n",
              "      background-color: #3B4455;\n",
              "      fill: #D2E3FC;\n",
              "    }\n",
              "\n",
              "    [theme=dark] .colab-df-convert:hover {\n",
              "      background-color: #434B5C;\n",
              "      box-shadow: 0px 1px 3px 1px rgba(0, 0, 0, 0.15);\n",
              "      filter: drop-shadow(0px 1px 2px rgba(0, 0, 0, 0.3));\n",
              "      fill: #FFFFFF;\n",
              "    }\n",
              "  </style>\n",
              "\n",
              "      <script>\n",
              "        const buttonEl =\n",
              "          document.querySelector('#df-2113c1cd-381a-4360-a9ef-47288b0f212a button.colab-df-convert');\n",
              "        buttonEl.style.display =\n",
              "          google.colab.kernel.accessAllowed ? 'block' : 'none';\n",
              "\n",
              "        async function convertToInteractive(key) {\n",
              "          const element = document.querySelector('#df-2113c1cd-381a-4360-a9ef-47288b0f212a');\n",
              "          const dataTable =\n",
              "            await google.colab.kernel.invokeFunction('convertToInteractive',\n",
              "                                                     [key], {});\n",
              "          if (!dataTable) return;\n",
              "\n",
              "          const docLinkHtml = 'Like what you see? Visit the ' +\n",
              "            '<a target=\"_blank\" href=https://colab.research.google.com/notebooks/data_table.ipynb>data table notebook</a>'\n",
              "            + ' to learn more about interactive tables.';\n",
              "          element.innerHTML = '';\n",
              "          dataTable['output_type'] = 'display_data';\n",
              "          await google.colab.output.renderOutput(dataTable, element);\n",
              "          const docLink = document.createElement('div');\n",
              "          docLink.innerHTML = docLinkHtml;\n",
              "          element.appendChild(docLink);\n",
              "        }\n",
              "      </script>\n",
              "    </div>\n",
              "  </div>\n",
              "  "
            ]
          },
          "metadata": {},
          "execution_count": 62
        }
      ]
    },
    {
      "cell_type": "code",
      "source": [
        "Alameda1[\"Abs Diff\"] = abs(Alameda1[\"Jury Diff\"])\n",
        "Alameda1"
      ],
      "metadata": {
        "colab": {
          "base_uri": "https://localhost:8080/",
          "height": 237
        },
        "id": "TywHtNSDoOdm",
        "outputId": "53338f6f-71a7-4940-efaa-f4631e45555c"
      },
      "execution_count": 63,
      "outputs": [
        {
          "output_type": "execute_result",
          "data": {
            "text/plain": [
              "           Eligible  Panels  Jury Diff  Abs Diff\n",
              "Ethnicity                                       \n",
              "Asian          0.15    0.26       0.11      0.11\n",
              "Black          0.18    0.08      -0.10      0.10\n",
              "Latino         0.12    0.08      -0.04      0.04\n",
              "White          0.54    0.54       0.00      0.00\n",
              "Other          0.01    0.04       0.03      0.03"
            ],
            "text/html": [
              "\n",
              "  <div id=\"df-1ebab4f0-112a-42a1-bc49-d9956022e2a7\">\n",
              "    <div class=\"colab-df-container\">\n",
              "      <div>\n",
              "<style scoped>\n",
              "    .dataframe tbody tr th:only-of-type {\n",
              "        vertical-align: middle;\n",
              "    }\n",
              "\n",
              "    .dataframe tbody tr th {\n",
              "        vertical-align: top;\n",
              "    }\n",
              "\n",
              "    .dataframe thead th {\n",
              "        text-align: right;\n",
              "    }\n",
              "</style>\n",
              "<table border=\"1\" class=\"dataframe\">\n",
              "  <thead>\n",
              "    <tr style=\"text-align: right;\">\n",
              "      <th></th>\n",
              "      <th>Eligible</th>\n",
              "      <th>Panels</th>\n",
              "      <th>Jury Diff</th>\n",
              "      <th>Abs Diff</th>\n",
              "    </tr>\n",
              "    <tr>\n",
              "      <th>Ethnicity</th>\n",
              "      <th></th>\n",
              "      <th></th>\n",
              "      <th></th>\n",
              "      <th></th>\n",
              "    </tr>\n",
              "  </thead>\n",
              "  <tbody>\n",
              "    <tr>\n",
              "      <th>Asian</th>\n",
              "      <td>0.15</td>\n",
              "      <td>0.26</td>\n",
              "      <td>0.11</td>\n",
              "      <td>0.11</td>\n",
              "    </tr>\n",
              "    <tr>\n",
              "      <th>Black</th>\n",
              "      <td>0.18</td>\n",
              "      <td>0.08</td>\n",
              "      <td>-0.10</td>\n",
              "      <td>0.10</td>\n",
              "    </tr>\n",
              "    <tr>\n",
              "      <th>Latino</th>\n",
              "      <td>0.12</td>\n",
              "      <td>0.08</td>\n",
              "      <td>-0.04</td>\n",
              "      <td>0.04</td>\n",
              "    </tr>\n",
              "    <tr>\n",
              "      <th>White</th>\n",
              "      <td>0.54</td>\n",
              "      <td>0.54</td>\n",
              "      <td>0.00</td>\n",
              "      <td>0.00</td>\n",
              "    </tr>\n",
              "    <tr>\n",
              "      <th>Other</th>\n",
              "      <td>0.01</td>\n",
              "      <td>0.04</td>\n",
              "      <td>0.03</td>\n",
              "      <td>0.03</td>\n",
              "    </tr>\n",
              "  </tbody>\n",
              "</table>\n",
              "</div>\n",
              "      <button class=\"colab-df-convert\" onclick=\"convertToInteractive('df-1ebab4f0-112a-42a1-bc49-d9956022e2a7')\"\n",
              "              title=\"Convert this dataframe to an interactive table.\"\n",
              "              style=\"display:none;\">\n",
              "        \n",
              "  <svg xmlns=\"http://www.w3.org/2000/svg\" height=\"24px\"viewBox=\"0 0 24 24\"\n",
              "       width=\"24px\">\n",
              "    <path d=\"M0 0h24v24H0V0z\" fill=\"none\"/>\n",
              "    <path d=\"M18.56 5.44l.94 2.06.94-2.06 2.06-.94-2.06-.94-.94-2.06-.94 2.06-2.06.94zm-11 1L8.5 8.5l.94-2.06 2.06-.94-2.06-.94L8.5 2.5l-.94 2.06-2.06.94zm10 10l.94 2.06.94-2.06 2.06-.94-2.06-.94-.94-2.06-.94 2.06-2.06.94z\"/><path d=\"M17.41 7.96l-1.37-1.37c-.4-.4-.92-.59-1.43-.59-.52 0-1.04.2-1.43.59L10.3 9.45l-7.72 7.72c-.78.78-.78 2.05 0 2.83L4 21.41c.39.39.9.59 1.41.59.51 0 1.02-.2 1.41-.59l7.78-7.78 2.81-2.81c.8-.78.8-2.07 0-2.86zM5.41 20L4 18.59l7.72-7.72 1.47 1.35L5.41 20z\"/>\n",
              "  </svg>\n",
              "      </button>\n",
              "      \n",
              "  <style>\n",
              "    .colab-df-container {\n",
              "      display:flex;\n",
              "      flex-wrap:wrap;\n",
              "      gap: 12px;\n",
              "    }\n",
              "\n",
              "    .colab-df-convert {\n",
              "      background-color: #E8F0FE;\n",
              "      border: none;\n",
              "      border-radius: 50%;\n",
              "      cursor: pointer;\n",
              "      display: none;\n",
              "      fill: #1967D2;\n",
              "      height: 32px;\n",
              "      padding: 0 0 0 0;\n",
              "      width: 32px;\n",
              "    }\n",
              "\n",
              "    .colab-df-convert:hover {\n",
              "      background-color: #E2EBFA;\n",
              "      box-shadow: 0px 1px 2px rgba(60, 64, 67, 0.3), 0px 1px 3px 1px rgba(60, 64, 67, 0.15);\n",
              "      fill: #174EA6;\n",
              "    }\n",
              "\n",
              "    [theme=dark] .colab-df-convert {\n",
              "      background-color: #3B4455;\n",
              "      fill: #D2E3FC;\n",
              "    }\n",
              "\n",
              "    [theme=dark] .colab-df-convert:hover {\n",
              "      background-color: #434B5C;\n",
              "      box-shadow: 0px 1px 3px 1px rgba(0, 0, 0, 0.15);\n",
              "      filter: drop-shadow(0px 1px 2px rgba(0, 0, 0, 0.3));\n",
              "      fill: #FFFFFF;\n",
              "    }\n",
              "  </style>\n",
              "\n",
              "      <script>\n",
              "        const buttonEl =\n",
              "          document.querySelector('#df-1ebab4f0-112a-42a1-bc49-d9956022e2a7 button.colab-df-convert');\n",
              "        buttonEl.style.display =\n",
              "          google.colab.kernel.accessAllowed ? 'block' : 'none';\n",
              "\n",
              "        async function convertToInteractive(key) {\n",
              "          const element = document.querySelector('#df-1ebab4f0-112a-42a1-bc49-d9956022e2a7');\n",
              "          const dataTable =\n",
              "            await google.colab.kernel.invokeFunction('convertToInteractive',\n",
              "                                                     [key], {});\n",
              "          if (!dataTable) return;\n",
              "\n",
              "          const docLinkHtml = 'Like what you see? Visit the ' +\n",
              "            '<a target=\"_blank\" href=https://colab.research.google.com/notebooks/data_table.ipynb>data table notebook</a>'\n",
              "            + ' to learn more about interactive tables.';\n",
              "          element.innerHTML = '';\n",
              "          dataTable['output_type'] = 'display_data';\n",
              "          await google.colab.output.renderOutput(dataTable, element);\n",
              "          const docLink = document.createElement('div');\n",
              "          docLink.innerHTML = docLinkHtml;\n",
              "          element.appendChild(docLink);\n",
              "        }\n",
              "      </script>\n",
              "    </div>\n",
              "  </div>\n",
              "  "
            ]
          },
          "metadata": {},
          "execution_count": 63
        }
      ]
    },
    {
      "cell_type": "code",
      "source": [
        "test_statistic = Alameda1['Abs Diff'].sum()/2\n",
        "test_statistic"
      ],
      "metadata": {
        "colab": {
          "base_uri": "https://localhost:8080/"
        },
        "id": "gdHOAiAGqC8H",
        "outputId": "82262e91-4206-416e-c868-99dcc6a5c68b"
      },
      "execution_count": 64,
      "outputs": [
        {
          "output_type": "execute_result",
          "data": {
            "text/plain": [
              "0.14"
            ]
          },
          "metadata": {},
          "execution_count": 64
        }
      ]
    },
    {
      "cell_type": "markdown",
      "source": [
        "#Random Sampling"
      ],
      "metadata": {
        "id": "-GFvfBQ2Ked6"
      }
    },
    {
      "cell_type": "code",
      "source": [
        "Panel_size = 1000\n",
        "import numpy.random as npr\n",
        "np.random.multinomial(1000,[0.15,0.18,0.12,0.54,0.01])"
      ],
      "metadata": {
        "colab": {
          "base_uri": "https://localhost:8080/"
        },
        "id": "ZY1XYX2BqZKX",
        "outputId": "eaea01ef-a45c-4a16-ef37-24dad81906c5"
      },
      "execution_count": 6,
      "outputs": [
        {
          "output_type": "execute_result",
          "data": {
            "text/plain": [
              "array([155, 178, 131, 526,  10])"
            ]
          },
          "metadata": {},
          "execution_count": 6
        }
      ]
    },
    {
      "cell_type": "code",
      "source": [
        "Alameda2 = pd.DataFrame(Alameda1,columns = ['Eligible','Panels'])\n"
      ],
      "metadata": {
        "id": "CclOC80wKwQb"
      },
      "execution_count": 7,
      "outputs": []
    },
    {
      "cell_type": "code",
      "source": [
        "Alameda2['Random Sample'] = np.random.multinomial(1000,[0.15,0.18,0.12,0.54,0.01])/1000\n",
        "Alameda2"
      ],
      "metadata": {
        "colab": {
          "base_uri": "https://localhost:8080/",
          "height": 237
        },
        "id": "G0mIZRS_K67j",
        "outputId": "e5b81df3-e3c0-452e-bc8b-5b5c15f18a6c"
      },
      "execution_count": 30,
      "outputs": [
        {
          "output_type": "execute_result",
          "data": {
            "text/plain": [
              "           Eligible  Panels  Random Sample\n",
              "Ethnicity                                 \n",
              "Asian          0.15    0.26          0.159\n",
              "Black          0.18    0.08          0.182\n",
              "Latino         0.12    0.08          0.114\n",
              "White          0.54    0.54          0.534\n",
              "Other          0.01    0.04          0.011"
            ],
            "text/html": [
              "\n",
              "  <div id=\"df-a0b5692b-d022-4fb8-ada6-5e52d877a3f4\">\n",
              "    <div class=\"colab-df-container\">\n",
              "      <div>\n",
              "<style scoped>\n",
              "    .dataframe tbody tr th:only-of-type {\n",
              "        vertical-align: middle;\n",
              "    }\n",
              "\n",
              "    .dataframe tbody tr th {\n",
              "        vertical-align: top;\n",
              "    }\n",
              "\n",
              "    .dataframe thead th {\n",
              "        text-align: right;\n",
              "    }\n",
              "</style>\n",
              "<table border=\"1\" class=\"dataframe\">\n",
              "  <thead>\n",
              "    <tr style=\"text-align: right;\">\n",
              "      <th></th>\n",
              "      <th>Eligible</th>\n",
              "      <th>Panels</th>\n",
              "      <th>Random Sample</th>\n",
              "    </tr>\n",
              "    <tr>\n",
              "      <th>Ethnicity</th>\n",
              "      <th></th>\n",
              "      <th></th>\n",
              "      <th></th>\n",
              "    </tr>\n",
              "  </thead>\n",
              "  <tbody>\n",
              "    <tr>\n",
              "      <th>Asian</th>\n",
              "      <td>0.15</td>\n",
              "      <td>0.26</td>\n",
              "      <td>0.159</td>\n",
              "    </tr>\n",
              "    <tr>\n",
              "      <th>Black</th>\n",
              "      <td>0.18</td>\n",
              "      <td>0.08</td>\n",
              "      <td>0.182</td>\n",
              "    </tr>\n",
              "    <tr>\n",
              "      <th>Latino</th>\n",
              "      <td>0.12</td>\n",
              "      <td>0.08</td>\n",
              "      <td>0.114</td>\n",
              "    </tr>\n",
              "    <tr>\n",
              "      <th>White</th>\n",
              "      <td>0.54</td>\n",
              "      <td>0.54</td>\n",
              "      <td>0.534</td>\n",
              "    </tr>\n",
              "    <tr>\n",
              "      <th>Other</th>\n",
              "      <td>0.01</td>\n",
              "      <td>0.04</td>\n",
              "      <td>0.011</td>\n",
              "    </tr>\n",
              "  </tbody>\n",
              "</table>\n",
              "</div>\n",
              "      <button class=\"colab-df-convert\" onclick=\"convertToInteractive('df-a0b5692b-d022-4fb8-ada6-5e52d877a3f4')\"\n",
              "              title=\"Convert this dataframe to an interactive table.\"\n",
              "              style=\"display:none;\">\n",
              "        \n",
              "  <svg xmlns=\"http://www.w3.org/2000/svg\" height=\"24px\"viewBox=\"0 0 24 24\"\n",
              "       width=\"24px\">\n",
              "    <path d=\"M0 0h24v24H0V0z\" fill=\"none\"/>\n",
              "    <path d=\"M18.56 5.44l.94 2.06.94-2.06 2.06-.94-2.06-.94-.94-2.06-.94 2.06-2.06.94zm-11 1L8.5 8.5l.94-2.06 2.06-.94-2.06-.94L8.5 2.5l-.94 2.06-2.06.94zm10 10l.94 2.06.94-2.06 2.06-.94-2.06-.94-.94-2.06-.94 2.06-2.06.94z\"/><path d=\"M17.41 7.96l-1.37-1.37c-.4-.4-.92-.59-1.43-.59-.52 0-1.04.2-1.43.59L10.3 9.45l-7.72 7.72c-.78.78-.78 2.05 0 2.83L4 21.41c.39.39.9.59 1.41.59.51 0 1.02-.2 1.41-.59l7.78-7.78 2.81-2.81c.8-.78.8-2.07 0-2.86zM5.41 20L4 18.59l7.72-7.72 1.47 1.35L5.41 20z\"/>\n",
              "  </svg>\n",
              "      </button>\n",
              "      \n",
              "  <style>\n",
              "    .colab-df-container {\n",
              "      display:flex;\n",
              "      flex-wrap:wrap;\n",
              "      gap: 12px;\n",
              "    }\n",
              "\n",
              "    .colab-df-convert {\n",
              "      background-color: #E8F0FE;\n",
              "      border: none;\n",
              "      border-radius: 50%;\n",
              "      cursor: pointer;\n",
              "      display: none;\n",
              "      fill: #1967D2;\n",
              "      height: 32px;\n",
              "      padding: 0 0 0 0;\n",
              "      width: 32px;\n",
              "    }\n",
              "\n",
              "    .colab-df-convert:hover {\n",
              "      background-color: #E2EBFA;\n",
              "      box-shadow: 0px 1px 2px rgba(60, 64, 67, 0.3), 0px 1px 3px 1px rgba(60, 64, 67, 0.15);\n",
              "      fill: #174EA6;\n",
              "    }\n",
              "\n",
              "    [theme=dark] .colab-df-convert {\n",
              "      background-color: #3B4455;\n",
              "      fill: #D2E3FC;\n",
              "    }\n",
              "\n",
              "    [theme=dark] .colab-df-convert:hover {\n",
              "      background-color: #434B5C;\n",
              "      box-shadow: 0px 1px 3px 1px rgba(0, 0, 0, 0.15);\n",
              "      filter: drop-shadow(0px 1px 2px rgba(0, 0, 0, 0.3));\n",
              "      fill: #FFFFFF;\n",
              "    }\n",
              "  </style>\n",
              "\n",
              "      <script>\n",
              "        const buttonEl =\n",
              "          document.querySelector('#df-a0b5692b-d022-4fb8-ada6-5e52d877a3f4 button.colab-df-convert');\n",
              "        buttonEl.style.display =\n",
              "          google.colab.kernel.accessAllowed ? 'block' : 'none';\n",
              "\n",
              "        async function convertToInteractive(key) {\n",
              "          const element = document.querySelector('#df-a0b5692b-d022-4fb8-ada6-5e52d877a3f4');\n",
              "          const dataTable =\n",
              "            await google.colab.kernel.invokeFunction('convertToInteractive',\n",
              "                                                     [key], {});\n",
              "          if (!dataTable) return;\n",
              "\n",
              "          const docLinkHtml = 'Like what you see? Visit the ' +\n",
              "            '<a target=\"_blank\" href=https://colab.research.google.com/notebooks/data_table.ipynb>data table notebook</a>'\n",
              "            + ' to learn more about interactive tables.';\n",
              "          element.innerHTML = '';\n",
              "          dataTable['output_type'] = 'display_data';\n",
              "          await google.colab.output.renderOutput(dataTable, element);\n",
              "          const docLink = document.createElement('div');\n",
              "          docLink.innerHTML = docLinkHtml;\n",
              "          element.appendChild(docLink);\n",
              "        }\n",
              "      </script>\n",
              "    </div>\n",
              "  </div>\n",
              "  "
            ]
          },
          "metadata": {},
          "execution_count": 30
        }
      ]
    },
    {
      "cell_type": "code",
      "source": [
        "Alameda2.plot.barh()\n",
        "plt.ylabel('Ethnicity')\n",
        "plt.gca().invert_yaxis()"
      ],
      "metadata": {
        "colab": {
          "base_uri": "https://localhost:8080/",
          "height": 265
        },
        "id": "j9sVubxhLVhM",
        "outputId": "2afe8843-7c65-4d56-aed8-1f1de9344333"
      },
      "execution_count": 31,
      "outputs": [
        {
          "output_type": "display_data",
          "data": {
            "text/plain": [
              "<Figure size 432x288 with 1 Axes>"
            ],
            "image/png": "[encoded data removed]"
          },
          "metadata": {
            "needs_background": "light"
          }
        }
      ]
    },
    {
      "cell_type": "markdown",
      "source": [
        "Inference: this bar shows that if the samples are selected randomly then it is closer to the eligible population than it is to the actual panels"
      ],
      "metadata": {
        "id": "0iXqwxrSMBQK"
      }
    },
    {
      "cell_type": "code",
      "source": [
        "TVD = (abs(Alameda2['Eligible']-Alameda2['Random Sample'])).sum()/2\n",
        "TVD"
      ],
      "metadata": {
        "colab": {
          "base_uri": "https://localhost:8080/"
        },
        "id": "rtLDhDcWL8LJ",
        "outputId": "fcc70859-2134-4929-f3a0-cf547156e444"
      },
      "execution_count": 32,
      "outputs": [
        {
          "output_type": "execute_result",
          "data": {
            "text/plain": [
              "0.012000000000000004"
            ]
          },
          "metadata": {},
          "execution_count": 32
        }
      ]
    },
    {
      "cell_type": "code",
      "source": [
        "def total_variation_distance(distribution_1, distribution_2):\n",
        "    return np.abs(distribution_1 - distribution_2).sum()/2\n",
        "\n",
        "def table_tvd(table, label, other):\n",
        "    return total_variation_distance(table[label], table[other])\n",
        "\n",
        "observed_stat =table_tvd(Alameda, 'Eligible', 'Panels')\n",
        "print(observed_stat)"
      ],
      "metadata": {
        "colab": {
          "base_uri": "https://localhost:8080/"
        },
        "id": "uRY1c2hVNiXf",
        "outputId": "ab48e127-39c3-4f56-f9c7-d083d4764bc4"
      },
      "execution_count": 37,
      "outputs": [
        {
          "output_type": "stream",
          "name": "stdout",
          "text": [
            "0.14\n"
          ]
        }
      ]
    },
    {
      "cell_type": "code",
      "source": [
        "sims = 5000\n",
        "tvdl=[]\n",
        "for i in np.arange(sims):\n",
        "    Alameda2[\"Random Sample\"]=(npr.multinomial(1000,[0.15, 0.18, 0.12, 0.54, 0.01]))/Panel_size\n",
        "    tvdl.append(table_tvd(Alameda2, 'Eligible', 'Random Sample'))\n",
        "    \n",
        "tvdl"
      ],
      "metadata": {
        "colab": {
          "base_uri": "https://localhost:8080/"
        },
        "id": "WJw72v87Mj73",
        "outputId": "09ea705d-f421-482d-d97d-cfcfa929731c"
      },
      "execution_count": 38,
      "outputs": [
        {
          "output_type": "execute_result",
          "data": {
            "text/plain": [
              "[0.03400000000000003,\n",
              " 0.03,\n",
              " 0.022000000000000013,\n",
              " 0.028999999999999998,\n",
              " 0.010000000000000009,\n",
              " 0.01800000000000001,\n",
              " 0.027999999999999962,\n",
              " 0.049000000000000044,\n",
              " 0.011000000000000008,\n",
              " 0.025000000000000015,\n",
              " 0.022,\n",
              " 0.019999999999999997,\n",
              " 0.02600000000000001,\n",
              " 0.019000000000000003,\n",
              " 0.024,\n",
              " 0.014000000000000009,\n",
              " 0.027000000000000003,\n",
              " 0.04299999999999995,\n",
              " 0.016000000000000014,\n",
              " 0.019000000000000003,\n",
              " 0.03999999999999996,\n",
              " 0.031000000000000014,\n",
              " 0.027000000000000003,\n",
              " 0.007000000000000005,\n",
              " 0.020000000000000004,\n",
              " 0.045999999999999944,\n",
              " 0.014000000000000005,\n",
              " 0.027000000000000024,\n",
              " 0.025,\n",
              " 0.022,\n",
              " 0.014000000000000012,\n",
              " 0.020000000000000018,\n",
              " 0.024999999999999946,\n",
              " 0.0040000000000000036,\n",
              " 0.03300000000000001,\n",
              " 0.02400000000000002,\n",
              " 0.013000000000000008,\n",
              " 0.01100000000000001,\n",
              " 0.02400000000000002,\n",
              " 0.009000000000000008,\n",
              " 0.015000000000000006,\n",
              " 0.01400000000000001,\n",
              " 0.01500000000000001,\n",
              " 0.027999999999999997,\n",
              " 0.020000000000000018,\n",
              " 0.02000000000000001,\n",
              " 0.014999999999999998,\n",
              " 0.021,\n",
              " 0.03800000000000002,\n",
              " 0.022000000000000002,\n",
              " 0.018000000000000016,\n",
              " 0.025,\n",
              " 0.016000000000000014,\n",
              " 0.02600000000000001,\n",
              " 0.010000000000000002,\n",
              " 0.01400000000000001,\n",
              " 0.012999999999999998,\n",
              " 0.029000000000000005,\n",
              " 0.01900000000000001,\n",
              " 0.03800000000000001,\n",
              " 0.013999999999999992,\n",
              " 0.012000000000000009,\n",
              " 0.02700000000000001,\n",
              " 0.01100000000000001,\n",
              " 0.019000000000000003,\n",
              " 0.016,\n",
              " 0.01700000000000001,\n",
              " 0.01100000000000001,\n",
              " 0.015000000000000013,\n",
              " 0.016,\n",
              " 0.011999999999999997,\n",
              " 0.012000000000000004,\n",
              " 0.029000000000000005,\n",
              " 0.01400000000000001,\n",
              " 0.03400000000000003,\n",
              " 0.016000000000000007,\n",
              " 0.01800000000000001,\n",
              " 0.016000000000000007,\n",
              " 0.011000000000000003,\n",
              " 0.013000000000000003,\n",
              " 0.025000000000000015,\n",
              " 0.01800000000000001,\n",
              " 0.02100000000000001,\n",
              " 0.019999999999999997,\n",
              " 0.024999999999999994,\n",
              " 0.0069999999999999975,\n",
              " 0.027000000000000024,\n",
              " 0.025000000000000022,\n",
              " 0.016000000000000007,\n",
              " 0.03199999999999999,\n",
              " 0.013000000000000005,\n",
              " 0.02000000000000001,\n",
              " 0.02800000000000001,\n",
              " 0.020000000000000004,\n",
              " 0.007000000000000006,\n",
              " 0.01100000000000001,\n",
              " 0.019000000000000003,\n",
              " 0.024999999999999953,\n",
              " 0.015000000000000013,\n",
              " 0.008000000000000007,\n",
              " 0.02700000000000001,\n",
              " 0.05299999999999996,\n",
              " 0.010000000000000009,\n",
              " 0.004000000000000003,\n",
              " 0.01300000000000001,\n",
              " 0.012000000000000009,\n",
              " 0.03999999999999995,\n",
              " 0.011000000000000006,\n",
              " 0.01,\n",
              " 0.01400000000000001,\n",
              " 0.022000000000000006,\n",
              " 0.01100000000000001,\n",
              " 0.009000000000000001,\n",
              " 0.018000000000000002,\n",
              " 0.01800000000000001,\n",
              " 0.02400000000000002,\n",
              " 0.01499999999999999,\n",
              " 0.016,\n",
              " 0.01800000000000001,\n",
              " 0.028000000000000004,\n",
              " 0.013000000000000003,\n",
              " 0.010000000000000005,\n",
              " 0.024000000000000004,\n",
              " 0.010000000000000009,\n",
              " 0.022000000000000013,\n",
              " 0.039000000000000014,\n",
              " 0.018999999999999996,\n",
              " 0.022000000000000006,\n",
              " 0.02400000000000002,\n",
              " 0.012000000000000004,\n",
              " 0.028000000000000025,\n",
              " 0.011000000000000008,\n",
              " 0.024999999999999946,\n",
              " 0.018000000000000002,\n",
              " 0.02700000000000001,\n",
              " 0.018000000000000002,\n",
              " 0.02200000000000002,\n",
              " 0.02700000000000001,\n",
              " 0.01800000000000001,\n",
              " 0.04399999999999995,\n",
              " 0.015000000000000013,\n",
              " 0.02200000000000001,\n",
              " 0.03999999999999995,\n",
              " 0.026000000000000023,\n",
              " 0.02500000000000001,\n",
              " 0.01800000000000001,\n",
              " 0.020000000000000018,\n",
              " 0.009000000000000001,\n",
              " 0.03400000000000001,\n",
              " 0.010000000000000002,\n",
              " 0.023000000000000007,\n",
              " 0.033000000000000015,\n",
              " 0.006999999999999998,\n",
              " 0.027000000000000024,\n",
              " 0.020000000000000018,\n",
              " 0.04100000000000002,\n",
              " 0.011000000000000006,\n",
              " 0.024000000000000014,\n",
              " 0.022000000000000006,\n",
              " 0.04100000000000002,\n",
              " 0.03299999999999995,\n",
              " 0.018000000000000002,\n",
              " 0.027999999999999962,\n",
              " 0.031000000000000028,\n",
              " 0.010000000000000009,\n",
              " 0.02500000000000001,\n",
              " 0.019000000000000017,\n",
              " 0.023000000000000007,\n",
              " 0.010000000000000002,\n",
              " 0.007000000000000005,\n",
              " 0.03500000000000003,\n",
              " 0.014000000000000004,\n",
              " 0.010000000000000002,\n",
              " 0.03100000000000001,\n",
              " 0.015000000000000013,\n",
              " 0.010000000000000009,\n",
              " 0.03400000000000003,\n",
              " 0.012000000000000007,\n",
              " 0.0050000000000000044,\n",
              " 0.010000000000000007,\n",
              " 0.015999999999999993,\n",
              " 0.019000000000000013,\n",
              " 0.014000000000000002,\n",
              " 0.010000000000000009,\n",
              " 0.023000000000000007,\n",
              " 0.009000000000000006,\n",
              " 0.01800000000000001,\n",
              " 0.014000000000000005,\n",
              " 0.01700000000000001,\n",
              " 0.03600000000000003,\n",
              " 0.020999999999999998,\n",
              " 0.009999999999999995,\n",
              " 0.018000000000000002,\n",
              " 0.03200000000000002,\n",
              " 0.006000000000000005,\n",
              " 0.030000000000000006,\n",
              " 0.029999999999999995,\n",
              " 0.012000000000000009,\n",
              " 0.02899999999999995,\n",
              " 0.011999999999999997,\n",
              " 0.008000000000000004,\n",
              " 0.04699999999999996,\n",
              " 0.01300000000000001,\n",
              " 0.02000000000000001,\n",
              " 0.031000000000000003,\n",
              " 0.013999999999999999,\n",
              " 0.017000000000000008,\n",
              " 0.026999999999999948,\n",
              " 0.02500000000000001,\n",
              " 0.016,\n",
              " 0.012000000000000004,\n",
              " 0.03899999999999996,\n",
              " 0.01400000000000001,\n",
              " 0.013999999999999992,\n",
              " 0.015000000000000006,\n",
              " 0.011999999999999997,\n",
              " 0.03600000000000003,\n",
              " 0.030000000000000027,\n",
              " 0.026000000000000023,\n",
              " 0.02400000000000002,\n",
              " 0.023000000000000007,\n",
              " 0.031000000000000024,\n",
              " 0.020000000000000018,\n",
              " 0.01400000000000001,\n",
              " 0.01100000000000001,\n",
              " 0.022999999999999993,\n",
              " 0.017,\n",
              " 0.02500000000000001,\n",
              " 0.02200000000000001,\n",
              " 0.010000000000000009,\n",
              " 0.016000000000000014,\n",
              " 0.005000000000000003,\n",
              " 0.01200000000000001,\n",
              " 0.025999999999999954,\n",
              " 0.04000000000000002,\n",
              " 0.018,\n",
              " 0.039000000000000014,\n",
              " 0.024000000000000014,\n",
              " 0.022,\n",
              " 0.015000000000000006,\n",
              " 0.015000000000000006,\n",
              " 0.024000000000000014,\n",
              " 0.02000000000000001,\n",
              " 0.015,\n",
              " 0.04400000000000004,\n",
              " 0.005999999999999998,\n",
              " 0.02800000000000001,\n",
              " 0.017000000000000008,\n",
              " 0.01700000000000001,\n",
              " 0.03299999999999996,\n",
              " 0.01600000000000001,\n",
              " 0.011000000000000003,\n",
              " 0.020000000000000004,\n",
              " 0.009,\n",
              " 0.020000000000000004,\n",
              " 0.016000000000000014,\n",
              " 0.02200000000000002,\n",
              " 0.01500000000000001,\n",
              " 0.02000000000000001,\n",
              " 0.020000000000000004,\n",
              " 0.016,\n",
              " 0.031000000000000017,\n",
              " 0.02200000000000002,\n",
              " 0.03300000000000003,\n",
              " 0.005000000000000004,\n",
              " 0.011000000000000003,\n",
              " 0.01300000000000001,\n",
              " 0.030999999999999993,\n",
              " 0.03699999999999994,\n",
              " 0.005000000000000004,\n",
              " 0.05200000000000003,\n",
              " 0.01900000000000001,\n",
              " 0.007999999999999997,\n",
              " 0.009000000000000001,\n",
              " 0.032,\n",
              " 0.015,\n",
              " 0.025000000000000022,\n",
              " 0.03900000000000001,\n",
              " 0.02100000000000002,\n",
              " 0.018999999999999996,\n",
              " 0.04000000000000002,\n",
              " 0.03700000000000002,\n",
              " 0.034999999999999955,\n",
              " 0.020999999999999998,\n",
              " 0.01100000000000001,\n",
              " 0.017,\n",
              " 0.019000000000000003,\n",
              " 0.015000000000000003,\n",
              " 0.020000000000000004,\n",
              " 0.024,\n",
              " 0.019000000000000006,\n",
              " 0.014000000000000005,\n",
              " 0.02000000000000001,\n",
              " 0.03500000000000003,\n",
              " 0.021000000000000005,\n",
              " 0.02100000000000002,\n",
              " 0.02100000000000001,\n",
              " 0.021000000000000008,\n",
              " 0.01900000000000001,\n",
              " 0.015000000000000003,\n",
              " 0.03600000000000002,\n",
              " 0.018000000000000006,\n",
              " 0.02100000000000002,\n",
              " 0.005999999999999998,\n",
              " 0.024,\n",
              " 0.01900000000000001,\n",
              " 0.024,\n",
              " 0.028000000000000025,\n",
              " 0.018,\n",
              " 0.03999999999999995,\n",
              " 0.008000000000000007,\n",
              " 0.006000000000000004,\n",
              " 0.016000000000000007,\n",
              " 0.01900000000000001,\n",
              " 0.010000000000000009,\n",
              " 0.022000000000000013,\n",
              " 0.0040000000000000036,\n",
              " 0.017999999999999995,\n",
              " 0.02600000000000001,\n",
              " 0.013000000000000003,\n",
              " 0.02400000000000002,\n",
              " 0.023000000000000007,\n",
              " 0.0060000000000000045,\n",
              " 0.024999999999999953,\n",
              " 0.016999999999999994,\n",
              " 0.023000000000000007,\n",
              " 0.023000000000000007,\n",
              " 0.02100000000000001,\n",
              " 0.01699999999999999,\n",
              " 0.02500000000000001,\n",
              " 0.009000000000000006,\n",
              " 0.021000000000000005,\n",
              " 0.018999999999999996,\n",
              " 0.022000000000000006,\n",
              " 0.021000000000000008,\n",
              " 0.010000000000000007,\n",
              " 0.011000000000000003,\n",
              " 0.026000000000000006,\n",
              " 0.031,\n",
              " 0.016,\n",
              " 0.03600000000000002,\n",
              " 0.024000000000000018,\n",
              " 0.008000000000000005,\n",
              " 0.01900000000000001,\n",
              " 0.013999999999999997,\n",
              " 0.04799999999999996,\n",
              " 0.012999999999999998,\n",
              " 0.016999999999999998,\n",
              " 0.02800000000000001,\n",
              " 0.027000000000000017,\n",
              " 0.029000000000000026,\n",
              " 0.028000000000000004,\n",
              " 0.022,\n",
              " 0.018000000000000002,\n",
              " 0.019000000000000003,\n",
              " 0.017000000000000015,\n",
              " 0.017000000000000015,\n",
              " 0.01,\n",
              " 0.038000000000000006,\n",
              " 0.008000000000000007,\n",
              " 0.013000000000000005,\n",
              " 0.026000000000000016,\n",
              " 0.02300000000000002,\n",
              " 0.005999999999999998,\n",
              " 0.013999999999999999,\n",
              " 0.02200000000000002,\n",
              " 0.014000000000000012,\n",
              " 0.04099999999999995,\n",
              " 0.025000000000000022,\n",
              " 0.04099999999999995,\n",
              " 0.033000000000000015,\n",
              " 0.007000000000000006,\n",
              " 0.031000000000000007,\n",
              " 0.007999999999999998,\n",
              " 0.047000000000000014,\n",
              " 0.016999999999999994,\n",
              " 0.007999999999999998,\n",
              " 0.018000000000000016,\n",
              " 0.03400000000000002,\n",
              " 0.011,\n",
              " 0.013000000000000008,\n",
              " 0.014000000000000002,\n",
              " 0.015000000000000013,\n",
              " 0.025,\n",
              " 0.03399999999999996,\n",
              " 0.024000000000000014,\n",
              " 0.024999999999999998,\n",
              " 0.008000000000000007,\n",
              " 0.017,\n",
              " 0.013999999999999997,\n",
              " 0.009000000000000008,\n",
              " 0.011000000000000008,\n",
              " 0.018999999999999996,\n",
              " 0.014000000000000005,\n",
              " 0.020999999999999998,\n",
              " 0.03300000000000001,\n",
              " 0.01900000000000001,\n",
              " 0.020000000000000004,\n",
              " 0.021000000000000005,\n",
              " 0.016000000000000007,\n",
              " 0.019000000000000017,\n",
              " 0.015000000000000012,\n",
              " 0.020000000000000018,\n",
              " 0.01400000000000001,\n",
              " 0.026000000000000002,\n",
              " 0.012000000000000002,\n",
              " 0.043999999999999956,\n",
              " 0.02100000000000001,\n",
              " 0.019000000000000017,\n",
              " 0.011000000000000001,\n",
              " 0.022000000000000006,\n",
              " 0.018000000000000016,\n",
              " 0.01900000000000001,\n",
              " 0.016000000000000007,\n",
              " 0.017,\n",
              " 0.018999999999999996,\n",
              " 0.014000000000000012,\n",
              " 0.029,\n",
              " 0.03899999999999995,\n",
              " 0.016000000000000014,\n",
              " 0.022999999999999993,\n",
              " 0.02200000000000001,\n",
              " 0.02800000000000001,\n",
              " 0.03800000000000002,\n",
              " 0.02700000000000001,\n",
              " 0.009,\n",
              " 0.005999999999999997,\n",
              " 0.03099999999999995,\n",
              " 0.02100000000000001,\n",
              " 0.03999999999999996,\n",
              " 0.03799999999999996,\n",
              " 0.011000000000000001,\n",
              " 0.021000000000000005,\n",
              " 0.023999999999999994,\n",
              " 0.023000000000000007,\n",
              " 0.02800000000000001,\n",
              " 0.02700000000000001,\n",
              " 0.009,\n",
              " 0.019000000000000003,\n",
              " 0.02500000000000001,\n",
              " 0.01200000000000001,\n",
              " 0.0050000000000000044,\n",
              " 0.016000000000000007,\n",
              " 0.01800000000000001,\n",
              " 0.01800000000000001,\n",
              " 0.020000000000000018,\n",
              " 0.009999999999999995,\n",
              " 0.030999999999999944,\n",
              " 0.011999999999999997,\n",
              " 0.013000000000000012,\n",
              " 0.014000000000000012,\n",
              " 0.02700000000000001,\n",
              " 0.035000000000000024,\n",
              " 0.025000000000000015,\n",
              " 0.017000000000000008,\n",
              " 0.009000000000000001,\n",
              " 0.017000000000000008,\n",
              " 0.017,\n",
              " 0.020000000000000018,\n",
              " 0.023,\n",
              " 0.01200000000000001,\n",
              " 0.024000000000000014,\n",
              " 0.018000000000000016,\n",
              " 0.006999999999999999,\n",
              " 0.012000000000000004,\n",
              " 0.020000000000000004,\n",
              " 0.014000000000000005,\n",
              " 0.020000000000000004,\n",
              " 0.026000000000000023,\n",
              " 0.025,\n",
              " 0.008000000000000007,\n",
              " 0.02699999999999999,\n",
              " 0.02499999999999996,\n",
              " 0.017,\n",
              " 0.03700000000000001,\n",
              " 0.034000000000000016,\n",
              " 0.042000000000000016,\n",
              " 0.027999999999999955,\n",
              " 0.01100000000000001,\n",
              " 0.019999999999999997,\n",
              " 0.0030000000000000027,\n",
              " 0.008000000000000007,\n",
              " 0.026999999999999993,\n",
              " 0.017999999999999995,\n",
              " 0.009000000000000001,\n",
              " 0.030000000000000023,\n",
              " 0.017000000000000015,\n",
              " 0.027000000000000024,\n",
              " 0.02000000000000001,\n",
              " 0.03200000000000002,\n",
              " 0.03500000000000003,\n",
              " 0.022000000000000013,\n",
              " 0.019000000000000017,\n",
              " 0.01100000000000001,\n",
              " 0.031000000000000014,\n",
              " 0.026000000000000016,\n",
              " 0.01700000000000001,\n",
              " 0.037000000000000005,\n",
              " 0.02100000000000002,\n",
              " 0.018000000000000016,\n",
              " 0.022000000000000006,\n",
              " 0.021000000000000005,\n",
              " 0.03500000000000002,\n",
              " 0.015000000000000012,\n",
              " 0.029000000000000026,\n",
              " 0.020999999999999998,\n",
              " 0.019000000000000003,\n",
              " 0.016000000000000014,\n",
              " 0.010999999999999996,\n",
              " 0.025000000000000015,\n",
              " 0.02500000000000001,\n",
              " 0.022000000000000006,\n",
              " 0.014000000000000005,\n",
              " 0.006000000000000005,\n",
              " 0.012000000000000007,\n",
              " 0.04900000000000002,\n",
              " 0.035999999999999956,\n",
              " 0.039000000000000035,\n",
              " 0.039000000000000014,\n",
              " 0.014999999999999996,\n",
              " 0.009000000000000006,\n",
              " 0.022000000000000013,\n",
              " 0.020999999999999998,\n",
              " 0.03299999999999996,\n",
              " 0.019999999999999997,\n",
              " 0.04799999999999995,\n",
              " 0.025,\n",
              " 0.03299999999999995,\n",
              " 0.02500000000000002,\n",
              " 0.022000000000000006,\n",
              " 0.018000000000000002,\n",
              " 0.027000000000000024,\n",
              " 0.03400000000000001,\n",
              " 0.033999999999999954,\n",
              " 0.027000000000000017,\n",
              " 0.027000000000000017,\n",
              " 0.028999999999999998,\n",
              " 0.02100000000000001,\n",
              " 0.024999999999999946,\n",
              " 0.0030000000000000027,\n",
              " 0.022000000000000006,\n",
              " 0.02300000000000002,\n",
              " 0.026999999999999996,\n",
              " 0.012999999999999998,\n",
              " 0.015000000000000013,\n",
              " 0.034,\n",
              " 0.008000000000000005,\n",
              " 0.023,\n",
              " 0.018000000000000016,\n",
              " 0.016000000000000004,\n",
              " 0.03200000000000003,\n",
              " 0.017000000000000015,\n",
              " 0.010000000000000007,\n",
              " 0.02200000000000002,\n",
              " 0.0030000000000000027,\n",
              " 0.0070000000000000045,\n",
              " 0.022000000000000006,\n",
              " 0.014000000000000005,\n",
              " 0.012000000000000007,\n",
              " 0.017,\n",
              " 0.015,\n",
              " 0.03400000000000001,\n",
              " 0.008000000000000005,\n",
              " 0.021000000000000005,\n",
              " 0.022000000000000002,\n",
              " 0.017,\n",
              " 0.016,\n",
              " 0.026000000000000006,\n",
              " 0.031000000000000014,\n",
              " 0.009999999999999995,\n",
              " 0.014000000000000005,\n",
              " 0.028000000000000025,\n",
              " 0.028000000000000008,\n",
              " 0.015000000000000012,\n",
              " 0.035,\n",
              " 0.014000000000000005,\n",
              " 0.014000000000000005,\n",
              " 0.01100000000000001,\n",
              " 0.031,\n",
              " 0.04400000000000004,\n",
              " 0.02000000000000001,\n",
              " 0.025000000000000005,\n",
              " 0.0020000000000000018,\n",
              " 0.01800000000000001,\n",
              " 0.019000000000000013,\n",
              " 0.019000000000000003,\n",
              " 0.008000000000000007,\n",
              " 0.023000000000000007,\n",
              " 0.018000000000000006,\n",
              " 0.030000000000000002,\n",
              " 0.026000000000000002,\n",
              " 0.009000000000000005,\n",
              " 0.009999999999999995,\n",
              " 0.017,\n",
              " 0.012000000000000004,\n",
              " 0.024000000000000014,\n",
              " 0.019000000000000003,\n",
              " 0.024000000000000007,\n",
              " 0.028999999999999998,\n",
              " 0.025999999999999954,\n",
              " 0.014000000000000005,\n",
              " 0.022999999999999958,\n",
              " 0.02100000000000002,\n",
              " 0.022000000000000016,\n",
              " 0.007000000000000006,\n",
              " 0.01900000000000001,\n",
              " 0.015,\n",
              " 0.032,\n",
              " 0.016000000000000007,\n",
              " 0.028000000000000014,\n",
              " 0.02200000000000002,\n",
              " 0.009999999999999995,\n",
              " 0.021000000000000005,\n",
              " 0.029999999999999995,\n",
              " 0.009000000000000005,\n",
              " 0.009000000000000006,\n",
              " 0.038000000000000034,\n",
              " 0.009000000000000006,\n",
              " 0.010000000000000002,\n",
              " 0.017000000000000008,\n",
              " 0.007999999999999998,\n",
              " 0.03399999999999995,\n",
              " 0.02800000000000001,\n",
              " 0.02299999999999995,\n",
              " 0.01900000000000001,\n",
              " 0.015999999999999993,\n",
              " 0.014000000000000012,\n",
              " 0.02500000000000001,\n",
              " 0.009000000000000006,\n",
              " 0.015000000000000005,\n",
              " 0.01,\n",
              " 0.01399999999999999,\n",
              " 0.014000000000000012,\n",
              " 0.009999999999999993,\n",
              " 0.03200000000000003,\n",
              " 0.015000000000000006,\n",
              " 0.006000000000000005,\n",
              " 0.02100000000000002,\n",
              " 0.02800000000000001,\n",
              " 0.02500000000000001,\n",
              " 0.02100000000000001,\n",
              " 0.024,\n",
              " 0.03399999999999996,\n",
              " 0.010999999999999996,\n",
              " 0.03200000000000003,\n",
              " 0.02200000000000002,\n",
              " 0.012000000000000002,\n",
              " 0.031000000000000007,\n",
              " 0.012000000000000009,\n",
              " 0.017000000000000005,\n",
              " 0.012000000000000004,\n",
              " 0.019000000000000017,\n",
              " 0.010999999999999994,\n",
              " 0.016000000000000007,\n",
              " 0.036000000000000004,\n",
              " 0.011000000000000001,\n",
              " 0.019999999999999997,\n",
              " 0.016000000000000014,\n",
              " 0.019000000000000017,\n",
              " 0.02500000000000001,\n",
              " 0.013000000000000005,\n",
              " 0.021999999999999995,\n",
              " 0.01800000000000001,\n",
              " 0.021999999999999995,\n",
              " 0.024000000000000007,\n",
              " 0.029000000000000005,\n",
              " 0.04699999999999995,\n",
              " 0.017,\n",
              " 0.020000000000000018,\n",
              " 0.03099999999999999,\n",
              " 0.010000000000000009,\n",
              " 0.02999999999999995,\n",
              " 0.015000000000000006,\n",
              " 0.012000000000000004,\n",
              " 0.021000000000000005,\n",
              " 0.014000000000000002,\n",
              " 0.0059999999999999975,\n",
              " 0.023000000000000017,\n",
              " 0.029999999999999947,\n",
              " 0.019,\n",
              " 0.02000000000000001,\n",
              " 0.023000000000000007,\n",
              " 0.039000000000000014,\n",
              " 0.030000000000000013,\n",
              " 0.021000000000000008,\n",
              " 0.02900000000000002,\n",
              " 0.010000000000000007,\n",
              " 0.027000000000000007,\n",
              " 0.038000000000000006,\n",
              " 0.018000000000000002,\n",
              " 0.011999999999999995,\n",
              " 0.013000000000000003,\n",
              " 0.024999999999999998,\n",
              " 0.019999999999999997,\n",
              " 0.033,\n",
              " 0.021000000000000005,\n",
              " 0.014000000000000012,\n",
              " 0.021000000000000005,\n",
              " 0.014000000000000005,\n",
              " 0.021000000000000015,\n",
              " 0.03200000000000003,\n",
              " 0.009999999999999998,\n",
              " 0.031,\n",
              " 0.027,\n",
              " 0.026000000000000023,\n",
              " 0.022000000000000013,\n",
              " 0.02000000000000001,\n",
              " 0.014000000000000005,\n",
              " 0.011000000000000003,\n",
              " 0.03600000000000001,\n",
              " 0.013000000000000003,\n",
              " 0.017,\n",
              " 0.02100000000000002,\n",
              " 0.012000000000000009,\n",
              " 0.026000000000000013,\n",
              " 0.012000000000000004,\n",
              " 0.015,\n",
              " 0.01600000000000001,\n",
              " 0.009000000000000001,\n",
              " 0.014000000000000004,\n",
              " 0.015999999999999997,\n",
              " 0.004000000000000003,\n",
              " 0.026000000000000023,\n",
              " 0.040000000000000015,\n",
              " 0.017000000000000008,\n",
              " 0.017000000000000005,\n",
              " 0.013000000000000003,\n",
              " 0.014000000000000012,\n",
              " 0.019000000000000006,\n",
              " 0.02600000000000002,\n",
              " 0.028999999999999998,\n",
              " 0.04500000000000001,\n",
              " 0.024000000000000014,\n",
              " 0.005000000000000004,\n",
              " 0.02100000000000001,\n",
              " 0.032,\n",
              " 0.009000000000000008,\n",
              " 0.008,\n",
              " 0.026000000000000016,\n",
              " 0.006999999999999999,\n",
              " 0.018000000000000006,\n",
              " 0.017000000000000008,\n",
              " 0.03300000000000001,\n",
              " 0.03700000000000002,\n",
              " 0.012999999999999996,\n",
              " 0.015000000000000012,\n",
              " 0.026000000000000006,\n",
              " 0.008000000000000007,\n",
              " 0.02600000000000001,\n",
              " 0.018000000000000002,\n",
              " 0.015000000000000006,\n",
              " 0.008999999999999998,\n",
              " 0.03799999999999996,\n",
              " 0.0030000000000000027,\n",
              " 0.016000000000000014,\n",
              " 0.014999999999999993,\n",
              " 0.02000000000000001,\n",
              " 0.017000000000000015,\n",
              " 0.03,\n",
              " 0.010999999999999996,\n",
              " 0.023000000000000007,\n",
              " 0.018000000000000016,\n",
              " 0.023999999999999945,\n",
              " 0.030000000000000013,\n",
              " 0.020000000000000018,\n",
              " 0.018999999999999993,\n",
              " 0.020000000000000004,\n",
              " 0.034999999999999955,\n",
              " 0.021000000000000005,\n",
              " 0.022,\n",
              " 0.020000000000000004,\n",
              " 0.028000000000000014,\n",
              " 0.030000000000000013,\n",
              " 0.03,\n",
              " 0.008000000000000007,\n",
              " 0.015999999999999993,\n",
              " 0.016000000000000007,\n",
              " 0.02100000000000001,\n",
              " 0.016,\n",
              " 0.026000000000000013,\n",
              " 0.021000000000000005,\n",
              " 0.03400000000000002,\n",
              " 0.011000000000000003,\n",
              " 0.03399999999999994,\n",
              " 0.015000000000000006,\n",
              " 0.03899999999999999,\n",
              " 0.017,\n",
              " 0.02999999999999995,\n",
              " 0.02000000000000001,\n",
              " 0.03299999999999995,\n",
              " 0.012000000000000002,\n",
              " 0.022999999999999958,\n",
              " 0.03400000000000002,\n",
              " 0.02100000000000002,\n",
              " 0.023,\n",
              " 0.01200000000000001,\n",
              " 0.013000000000000008,\n",
              " 0.01100000000000001,\n",
              " 0.01699999999999999,\n",
              " 0.025000000000000022,\n",
              " 0.021000000000000008,\n",
              " 0.03400000000000001,\n",
              " 0.019000000000000017,\n",
              " 0.02899999999999995,\n",
              " 0.022999999999999944,\n",
              " 0.01700000000000001,\n",
              " 0.016000000000000007,\n",
              " 0.017,\n",
              " 0.03499999999999996,\n",
              " 0.014000000000000009,\n",
              " 0.030000000000000013,\n",
              " 0.029,\n",
              " 0.023999999999999938,\n",
              " 0.027000000000000024,\n",
              " 0.02799999999999994,\n",
              " 0.04600000000000003,\n",
              " 0.01300000000000001,\n",
              " 0.012999999999999998,\n",
              " 0.021000000000000005,\n",
              " 0.01100000000000001,\n",
              " 0.019999999999999997,\n",
              " 0.031000000000000014,\n",
              " 0.03600000000000002,\n",
              " 0.01,\n",
              " 0.021000000000000005,\n",
              " 0.014000000000000005,\n",
              " 0.020999999999999998,\n",
              " 0.024000000000000007,\n",
              " 0.023000000000000003,\n",
              " 0.011000000000000003,\n",
              " 0.018999999999999996,\n",
              " 0.022999999999999993,\n",
              " 0.012000000000000009,\n",
              " 0.02800000000000001,\n",
              " 0.031000000000000007,\n",
              " 0.02200000000000002,\n",
              " 0.020000000000000014,\n",
              " 0.03299999999999995,\n",
              " 0.008000000000000007,\n",
              " 0.021000000000000005,\n",
              " 0.014000000000000012,\n",
              " 0.02100000000000002,\n",
              " 0.01600000000000001,\n",
              " 0.01200000000000001,\n",
              " 0.022999999999999944,\n",
              " 0.013000000000000001,\n",
              " 0.019000000000000003,\n",
              " 0.016000000000000007,\n",
              " 0.026000000000000023,\n",
              " 0.011999999999999995,\n",
              " 0.022000000000000013,\n",
              " 0.02200000000000002,\n",
              " 0.021,\n",
              " 0.013000000000000003,\n",
              " 0.02799999999999995,\n",
              " 0.012999999999999996,\n",
              " 0.019000000000000003,\n",
              " 0.021000000000000005,\n",
              " 0.020000000000000004,\n",
              " 0.01200000000000001,\n",
              " 0.02500000000000001,\n",
              " 0.019000000000000003,\n",
              " 0.012000000000000002,\n",
              " 0.02099999999999999,\n",
              " 0.037000000000000005,\n",
              " 0.018000000000000002,\n",
              " 0.020000000000000018,\n",
              " 0.019000000000000017,\n",
              " 0.012999999999999998,\n",
              " 0.029999999999999943,\n",
              " 0.02300000000000002,\n",
              " 0.007999999999999998,\n",
              " 0.021000000000000005,\n",
              " 0.03200000000000001,\n",
              " 0.03100000000000001,\n",
              " 0.017,\n",
              " 0.031000000000000014,\n",
              " 0.031000000000000024,\n",
              " 0.028999999999999942,\n",
              " 0.03700000000000003,\n",
              " 0.010000000000000009,\n",
              " 0.020000000000000004,\n",
              " 0.015000000000000005,\n",
              " 0.01900000000000001,\n",
              " 0.01100000000000001,\n",
              " 0.015000000000000013,\n",
              " 0.03300000000000001,\n",
              " 0.007000000000000006,\n",
              " 0.010000000000000009,\n",
              " 0.010000000000000009,\n",
              " 0.026000000000000023,\n",
              " 0.016,\n",
              " 0.021000000000000005,\n",
              " 0.03700000000000001,\n",
              " 0.01800000000000001,\n",
              " 0.020000000000000004,\n",
              " 0.022999999999999958,\n",
              " 0.017000000000000005,\n",
              " 0.009000000000000008,\n",
              " 0.011000000000000001,\n",
              " 0.017999999999999995,\n",
              " 0.017000000000000015,\n",
              " 0.03399999999999995,\n",
              " 0.04300000000000001,\n",
              " 0.016,\n",
              " 0.025000000000000022,\n",
              " 0.024000000000000004,\n",
              " 0.037000000000000005,\n",
              " 0.026000000000000013,\n",
              " 0.023000000000000007,\n",
              " 0.02800000000000001,\n",
              " 0.012000000000000009,\n",
              " 0.012000000000000009,\n",
              " 0.01300000000000001,\n",
              " 0.015000000000000006,\n",
              " 0.010000000000000007,\n",
              " 0.012000000000000004,\n",
              " 0.024999999999999998,\n",
              " 0.005000000000000003,\n",
              " 0.036000000000000004,\n",
              " 0.02600000000000001,\n",
              " 0.01200000000000001,\n",
              " 0.019000000000000003,\n",
              " 0.024000000000000018,\n",
              " 0.01799999999999999,\n",
              " 0.009000000000000008,\n",
              " 0.026999999999999996,\n",
              " 0.017000000000000008,\n",
              " 0.011000000000000003,\n",
              " 0.01900000000000001,\n",
              " 0.01100000000000001,\n",
              " 0.023000000000000013,\n",
              " 0.026000000000000006,\n",
              " 0.024,\n",
              " 0.0040000000000000036,\n",
              " 0.01,\n",
              " 0.0070000000000000045,\n",
              " 0.024,\n",
              " 0.01900000000000001,\n",
              " 0.02000000000000001,\n",
              " 0.006999999999999999,\n",
              " 0.020000000000000004,\n",
              " 0.03700000000000002,\n",
              " 0.017,\n",
              " 0.017,\n",
              " 0.025000000000000015,\n",
              " 0.014000000000000005,\n",
              " 0.02900000000000001,\n",
              " 0.03400000000000003,\n",
              " 0.016000000000000007,\n",
              " 0.015000000000000006,\n",
              " 0.03899999999999999,\n",
              " 0.03199999999999995,\n",
              " 0.011000000000000008,\n",
              " 0.02000000000000001,\n",
              " 0.012000000000000002,\n",
              " 0.027000000000000017,\n",
              " 0.02699999999999999,\n",
              " 0.008999999999999998,\n",
              " 0.01100000000000001,\n",
              " 0.014999999999999993,\n",
              " 0.024000000000000007,\n",
              " 0.03200000000000003,\n",
              " 0.030000000000000013,\n",
              " 0.01300000000000001,\n",
              " 0.01900000000000001,\n",
              " 0.012999999999999998,\n",
              " 0.032999999999999946,\n",
              " 0.02700000000000001,\n",
              " 0.023999999999999997,\n",
              " 0.019999999999999997,\n",
              " 0.014000000000000005,\n",
              " 0.023999999999999945,\n",
              " 0.024000000000000007,\n",
              " 0.02600000000000002,\n",
              " 0.025,\n",
              " 0.010999999999999996,\n",
              " 0.016000000000000014,\n",
              " 0.02399999999999996,\n",
              " 0.011000000000000003,\n",
              " 0.009999999999999995,\n",
              " 0.024000000000000007,\n",
              " 0.009000000000000006,\n",
              " 0.02299999999999995,\n",
              " 0.022999999999999993,\n",
              " 0.024000000000000007,\n",
              " 0.020000000000000004,\n",
              " 0.01100000000000001,\n",
              " 0.009000000000000008,\n",
              " 0.015000000000000005,\n",
              " 0.029000000000000022,\n",
              " 0.028999999999999998,\n",
              " 0.011000000000000008,\n",
              " 0.014000000000000012,\n",
              " 0.036000000000000025,\n",
              " 0.025999999999999947,\n",
              " 0.007000000000000006,\n",
              " 0.012000000000000004,\n",
              " 0.032999999999999995,\n",
              " 0.026999999999999996,\n",
              " ...]"
            ]
          },
          "metadata": {},
          "execution_count": 38
        }
      ]
    },
    {
      "cell_type": "code",
      "source": [
        "tvd_final=pd.DataFrame(tvdl)\n",
        "tvd_final.rename(columns={0:\"TVD\"},inplace=True) \n",
        "tvd_final.head()"
      ],
      "metadata": {
        "colab": {
          "base_uri": "https://localhost:8080/",
          "height": 206
        },
        "id": "nJKfTkL6NR_H",
        "outputId": "b4718082-b2fe-414e-977b-8e0061a3208e"
      },
      "execution_count": 39,
      "outputs": [
        {
          "output_type": "execute_result",
          "data": {
            "text/plain": [
              "     TVD\n",
              "0  0.034\n",
              "1  0.030\n",
              "2  0.022\n",
              "3  0.029\n",
              "4  0.010"
            ],
            "text/html": [
              "\n",
              "  <div id=\"df-57cecf5e-80ab-47ab-a103-02f589a30bb7\">\n",
              "    <div class=\"colab-df-container\">\n",
              "      <div>\n",
              "<style scoped>\n",
              "    .dataframe tbody tr th:only-of-type {\n",
              "        vertical-align: middle;\n",
              "    }\n",
              "\n",
              "    .dataframe tbody tr th {\n",
              "        vertical-align: top;\n",
              "    }\n",
              "\n",
              "    .dataframe thead th {\n",
              "        text-align: right;\n",
              "    }\n",
              "</style>\n",
              "<table border=\"1\" class=\"dataframe\">\n",
              "  <thead>\n",
              "    <tr style=\"text-align: right;\">\n",
              "      <th></th>\n",
              "      <th>TVD</th>\n",
              "    </tr>\n",
              "  </thead>\n",
              "  <tbody>\n",
              "    <tr>\n",
              "      <th>0</th>\n",
              "      <td>0.034</td>\n",
              "    </tr>\n",
              "    <tr>\n",
              "      <th>1</th>\n",
              "      <td>0.030</td>\n",
              "    </tr>\n",
              "    <tr>\n",
              "      <th>2</th>\n",
              "      <td>0.022</td>\n",
              "    </tr>\n",
              "    <tr>\n",
              "      <th>3</th>\n",
              "      <td>0.029</td>\n",
              "    </tr>\n",
              "    <tr>\n",
              "      <th>4</th>\n",
              "      <td>0.010</td>\n",
              "    </tr>\n",
              "  </tbody>\n",
              "</table>\n",
              "</div>\n",
              "      <button class=\"colab-df-convert\" onclick=\"convertToInteractive('df-57cecf5e-80ab-47ab-a103-02f589a30bb7')\"\n",
              "              title=\"Convert this dataframe to an interactive table.\"\n",
              "              style=\"display:none;\">\n",
              "        \n",
              "  <svg xmlns=\"http://www.w3.org/2000/svg\" height=\"24px\"viewBox=\"0 0 24 24\"\n",
              "       width=\"24px\">\n",
              "    <path d=\"M0 0h24v24H0V0z\" fill=\"none\"/>\n",
              "    <path d=\"M18.56 5.44l.94 2.06.94-2.06 2.06-.94-2.06-.94-.94-2.06-.94 2.06-2.06.94zm-11 1L8.5 8.5l.94-2.06 2.06-.94-2.06-.94L8.5 2.5l-.94 2.06-2.06.94zm10 10l.94 2.06.94-2.06 2.06-.94-2.06-.94-.94-2.06-.94 2.06-2.06.94z\"/><path d=\"M17.41 7.96l-1.37-1.37c-.4-.4-.92-.59-1.43-.59-.52 0-1.04.2-1.43.59L10.3 9.45l-7.72 7.72c-.78.78-.78 2.05 0 2.83L4 21.41c.39.39.9.59 1.41.59.51 0 1.02-.2 1.41-.59l7.78-7.78 2.81-2.81c.8-.78.8-2.07 0-2.86zM5.41 20L4 18.59l7.72-7.72 1.47 1.35L5.41 20z\"/>\n",
              "  </svg>\n",
              "      </button>\n",
              "      \n",
              "  <style>\n",
              "    .colab-df-container {\n",
              "      display:flex;\n",
              "      flex-wrap:wrap;\n",
              "      gap: 12px;\n",
              "    }\n",
              "\n",
              "    .colab-df-convert {\n",
              "      background-color: #E8F0FE;\n",
              "      border: none;\n",
              "      border-radius: 50%;\n",
              "      cursor: pointer;\n",
              "      display: none;\n",
              "      fill: #1967D2;\n",
              "      height: 32px;\n",
              "      padding: 0 0 0 0;\n",
              "      width: 32px;\n",
              "    }\n",
              "\n",
              "    .colab-df-convert:hover {\n",
              "      background-color: #E2EBFA;\n",
              "      box-shadow: 0px 1px 2px rgba(60, 64, 67, 0.3), 0px 1px 3px 1px rgba(60, 64, 67, 0.15);\n",
              "      fill: #174EA6;\n",
              "    }\n",
              "\n",
              "    [theme=dark] .colab-df-convert {\n",
              "      background-color: #3B4455;\n",
              "      fill: #D2E3FC;\n",
              "    }\n",
              "\n",
              "    [theme=dark] .colab-df-convert:hover {\n",
              "      background-color: #434B5C;\n",
              "      box-shadow: 0px 1px 3px 1px rgba(0, 0, 0, 0.15);\n",
              "      filter: drop-shadow(0px 1px 2px rgba(0, 0, 0, 0.3));\n",
              "      fill: #FFFFFF;\n",
              "    }\n",
              "  </style>\n",
              "\n",
              "      <script>\n",
              "        const buttonEl =\n",
              "          document.querySelector('#df-57cecf5e-80ab-47ab-a103-02f589a30bb7 button.colab-df-convert');\n",
              "        buttonEl.style.display =\n",
              "          google.colab.kernel.accessAllowed ? 'block' : 'none';\n",
              "\n",
              "        async function convertToInteractive(key) {\n",
              "          const element = document.querySelector('#df-57cecf5e-80ab-47ab-a103-02f589a30bb7');\n",
              "          const dataTable =\n",
              "            await google.colab.kernel.invokeFunction('convertToInteractive',\n",
              "                                                     [key], {});\n",
              "          if (!dataTable) return;\n",
              "\n",
              "          const docLinkHtml = 'Like what you see? Visit the ' +\n",
              "            '<a target=\"_blank\" href=https://colab.research.google.com/notebooks/data_table.ipynb>data table notebook</a>'\n",
              "            + ' to learn more about interactive tables.';\n",
              "          element.innerHTML = '';\n",
              "          dataTable['output_type'] = 'display_data';\n",
              "          await google.colab.output.renderOutput(dataTable, element);\n",
              "          const docLink = document.createElement('div');\n",
              "          docLink.innerHTML = docLinkHtml;\n",
              "          element.appendChild(docLink);\n",
              "        }\n",
              "      </script>\n",
              "    </div>\n",
              "  </div>\n",
              "  "
            ]
          },
          "metadata": {},
          "execution_count": 39
        }
      ]
    },
    {
      "cell_type": "code",
      "source": [
        "tvd_final.hist(bins=np.arange(0,0.2,0.005))\n",
        "plt.ylabel('Percent per unit')\n",
        "plt.xlabel('TVD')\n",
        "plt.scatter(observed_stat, 0, color='red', s=30)"
      ],
      "metadata": {
        "colab": {
          "base_uri": "https://localhost:8080/",
          "height": 312
        },
        "id": "epmg2VTYOG44",
        "outputId": "06f6ab19-4ff4-47e1-b196-9e8260aa6d84"
      },
      "execution_count": 40,
      "outputs": [
        {
          "output_type": "execute_result",
          "data": {
            "text/plain": [
              "<matplotlib.collections.PathCollection at 0x7f0daec6d590>"
            ]
          },
          "metadata": {},
          "execution_count": 40
        },
        {
          "output_type": "display_data",
          "data": {
            "text/plain": [
              "<Figure size 432x288 with 1 Axes>"
            ],
            "image/png": "[encoded data removed]"
          },
          "metadata": {
            "needs_background": "light"
          }
        }
      ]
    },
    {
      "cell_type": "code",
      "source": [
        "tvd_final.max()"
      ],
      "metadata": {
        "colab": {
          "base_uri": "https://localhost:8080/"
        },
        "id": "K1F4yW6EQCDG",
        "outputId": "a8e5b8ea-b6ae-4aea-d116-eb842918dd6a"
      },
      "execution_count": 41,
      "outputs": [
        {
          "output_type": "execute_result",
          "data": {
            "text/plain": [
              "TVD    0.061\n",
              "dtype: float64"
            ]
          },
          "metadata": {},
          "execution_count": 41
        }
      ]
    },
    {
      "cell_type": "markdown",
      "source": [
        "Inference: this graph therefore shows us that the total variation distance between eligible population and the panels is way too high compared to the simulation of 5000 times with a panel size of 1000 where the total variation distance between eligible population and the random sample is atmost only 0.061,\n",
        "so we can conclude that the panels were not randomly sampled.\n",
        "\n",
        "#Hence, the Null hypothesis is rejected"
      ],
      "metadata": {
        "id": "Dh31IGl-Ol72"
      }
    }
  ]
}