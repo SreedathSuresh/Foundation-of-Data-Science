{
  "nbformat": 4,
  "nbformat_minor": 0,
  "metadata": {
    "colab": {
      "provenance": []
    },
    "kernelspec": {
      "name": "python3",
      "display_name": "Python 3"
    },
    "language_info": {
      "name": "python"
    }
  },
  "cells": [
    {
      "cell_type": "code",
      "execution_count": 27,
      "metadata": {
        "id": "eIhIRsFIGqSU"
      },
      "outputs": [],
      "source": [
        "import numpy as np\n",
        "import scipy.stats as st\n",
        "import matplotlib.pyplot as plt\n",
        "import pandas as pd\n",
        "import numpy.random as npr\n",
        "%matplotlib inline"
      ]
    },
    {
      "cell_type": "markdown",
      "source": [
        "#Part A\n",
        "\n",
        "1. State the Null and Alternative Hypothesis (2).\n",
        "\n",
        "Null Hypothesis:\n",
        "Ratio of purple and white plants taken at random is 3:1 \n",
        "\n",
        "Alternative Hypothesis:\n",
        "Ratio of purple and white plants taken at random is not 3:1 "
      ],
      "metadata": {
        "id": "p8n4QZIVKz3a"
      }
    },
    {
      "cell_type": "code",
      "source": [
        "sim = 2000 - 62\n",
        "n = 929\n",
        "purp = 705 + 62\n",
        "ir = [0.75,0.25] # ideal ratio\n"
      ],
      "metadata": {
        "id": "KQiNLFRVJcZo"
      },
      "execution_count": 7,
      "outputs": []
    },
    {
      "cell_type": "markdown",
      "source": [
        "2.What statistic do you recommend to apply for this case(2)? \n",
        "  \n",
        "A normal z test as we dont have standard deviation of sample and n > 30"
      ],
      "metadata": {
        "id": "csE9N-CxMf8Z"
      }
    },
    {
      "cell_type": "code",
      "source": [
        "white = n - purp\n",
        "white"
      ],
      "metadata": {
        "colab": {
          "base_uri": "https://localhost:8080/"
        },
        "id": "7nGbJg-VL169",
        "outputId": "e1421088-04d7-4492-b244-0505ac60fdba"
      },
      "execution_count": 13,
      "outputs": [
        {
          "output_type": "execute_result",
          "data": {
            "text/plain": [
              "162"
            ]
          },
          "metadata": {},
          "execution_count": 13
        }
      ]
    },
    {
      "cell_type": "markdown",
      "source": [
        "3. State the observed statistic(2).\n",
        "\n",
        "It can be observed that the amount of White Flowers in Mendel's Experiment is 162.\n"
      ],
      "metadata": {
        "id": "ulLfaksqQqlO"
      }
    },
    {
      "cell_type": "markdown",
      "source": [
        "4.Simulate the test statistic under the Null that will help make the decision(5). The number \n",
        "of simulations should be equal to (2000 - “Last 3 digits of your Roll Number”)."
      ],
      "metadata": {
        "id": "KB7MkdjbSg0h"
      }
    },
    {
      "cell_type": "code",
      "source": [
        "sim\n",
        "for i in np.arange(sim):\n",
        "  m_wcount = npr.binomial(929, 0.25, sim)\n",
        "m_wcount[0:5] "
      ],
      "metadata": {
        "colab": {
          "base_uri": "https://localhost:8080/"
        },
        "id": "qQY_h_-EOibT",
        "outputId": "703f1e9a-0a54-4aff-e328-2e93f0ae9433"
      },
      "execution_count": 16,
      "outputs": [
        {
          "output_type": "execute_result",
          "data": {
            "text/plain": [
              "array([228, 227, 242, 218, 227])"
            ]
          },
          "metadata": {},
          "execution_count": 16
        }
      ]
    },
    {
      "cell_type": "code",
      "source": [
        "m_w = pd.DataFrame(m_wcount)\n",
        "m_w"
      ],
      "metadata": {
        "colab": {
          "base_uri": "https://localhost:8080/",
          "height": 424
        },
        "id": "EibA7oKqPR2h",
        "outputId": "1c22b68b-0e48-43d7-d8bf-bdf021909830"
      },
      "execution_count": 19,
      "outputs": [
        {
          "output_type": "execute_result",
          "data": {
            "text/plain": [
              "        0\n",
              "0     228\n",
              "1     227\n",
              "2     242\n",
              "3     218\n",
              "4     227\n",
              "...   ...\n",
              "1933  230\n",
              "1934  235\n",
              "1935  219\n",
              "1936  249\n",
              "1937  239\n",
              "\n",
              "[1938 rows x 1 columns]"
            ],
            "text/html": [
              "\n",
              "  <div id=\"df-472b0381-d2a5-4b3d-abee-8eafcd4d8dea\">\n",
              "    <div class=\"colab-df-container\">\n",
              "      <div>\n",
              "<style scoped>\n",
              "    .dataframe tbody tr th:only-of-type {\n",
              "        vertical-align: middle;\n",
              "    }\n",
              "\n",
              "    .dataframe tbody tr th {\n",
              "        vertical-align: top;\n",
              "    }\n",
              "\n",
              "    .dataframe thead th {\n",
              "        text-align: right;\n",
              "    }\n",
              "</style>\n",
              "<table border=\"1\" class=\"dataframe\">\n",
              "  <thead>\n",
              "    <tr style=\"text-align: right;\">\n",
              "      <th></th>\n",
              "      <th>0</th>\n",
              "    </tr>\n",
              "  </thead>\n",
              "  <tbody>\n",
              "    <tr>\n",
              "      <th>0</th>\n",
              "      <td>228</td>\n",
              "    </tr>\n",
              "    <tr>\n",
              "      <th>1</th>\n",
              "      <td>227</td>\n",
              "    </tr>\n",
              "    <tr>\n",
              "      <th>2</th>\n",
              "      <td>242</td>\n",
              "    </tr>\n",
              "    <tr>\n",
              "      <th>3</th>\n",
              "      <td>218</td>\n",
              "    </tr>\n",
              "    <tr>\n",
              "      <th>4</th>\n",
              "      <td>227</td>\n",
              "    </tr>\n",
              "    <tr>\n",
              "      <th>...</th>\n",
              "      <td>...</td>\n",
              "    </tr>\n",
              "    <tr>\n",
              "      <th>1933</th>\n",
              "      <td>230</td>\n",
              "    </tr>\n",
              "    <tr>\n",
              "      <th>1934</th>\n",
              "      <td>235</td>\n",
              "    </tr>\n",
              "    <tr>\n",
              "      <th>1935</th>\n",
              "      <td>219</td>\n",
              "    </tr>\n",
              "    <tr>\n",
              "      <th>1936</th>\n",
              "      <td>249</td>\n",
              "    </tr>\n",
              "    <tr>\n",
              "      <th>1937</th>\n",
              "      <td>239</td>\n",
              "    </tr>\n",
              "  </tbody>\n",
              "</table>\n",
              "<p>1938 rows × 1 columns</p>\n",
              "</div>\n",
              "      <button class=\"colab-df-convert\" onclick=\"convertToInteractive('df-472b0381-d2a5-4b3d-abee-8eafcd4d8dea')\"\n",
              "              title=\"Convert this dataframe to an interactive table.\"\n",
              "              style=\"display:none;\">\n",
              "        \n",
              "  <svg xmlns=\"http://www.w3.org/2000/svg\" height=\"24px\"viewBox=\"0 0 24 24\"\n",
              "       width=\"24px\">\n",
              "    <path d=\"M0 0h24v24H0V0z\" fill=\"none\"/>\n",
              "    <path d=\"M18.56 5.44l.94 2.06.94-2.06 2.06-.94-2.06-.94-.94-2.06-.94 2.06-2.06.94zm-11 1L8.5 8.5l.94-2.06 2.06-.94-2.06-.94L8.5 2.5l-.94 2.06-2.06.94zm10 10l.94 2.06.94-2.06 2.06-.94-2.06-.94-.94-2.06-.94 2.06-2.06.94z\"/><path d=\"M17.41 7.96l-1.37-1.37c-.4-.4-.92-.59-1.43-.59-.52 0-1.04.2-1.43.59L10.3 9.45l-7.72 7.72c-.78.78-.78 2.05 0 2.83L4 21.41c.39.39.9.59 1.41.59.51 0 1.02-.2 1.41-.59l7.78-7.78 2.81-2.81c.8-.78.8-2.07 0-2.86zM5.41 20L4 18.59l7.72-7.72 1.47 1.35L5.41 20z\"/>\n",
              "  </svg>\n",
              "      </button>\n",
              "      \n",
              "  <style>\n",
              "    .colab-df-container {\n",
              "      display:flex;\n",
              "      flex-wrap:wrap;\n",
              "      gap: 12px;\n",
              "    }\n",
              "\n",
              "    .colab-df-convert {\n",
              "      background-color: #E8F0FE;\n",
              "      border: none;\n",
              "      border-radius: 50%;\n",
              "      cursor: pointer;\n",
              "      display: none;\n",
              "      fill: #1967D2;\n",
              "      height: 32px;\n",
              "      padding: 0 0 0 0;\n",
              "      width: 32px;\n",
              "    }\n",
              "\n",
              "    .colab-df-convert:hover {\n",
              "      background-color: #E2EBFA;\n",
              "      box-shadow: 0px 1px 2px rgba(60, 64, 67, 0.3), 0px 1px 3px 1px rgba(60, 64, 67, 0.15);\n",
              "      fill: #174EA6;\n",
              "    }\n",
              "\n",
              "    [theme=dark] .colab-df-convert {\n",
              "      background-color: #3B4455;\n",
              "      fill: #D2E3FC;\n",
              "    }\n",
              "\n",
              "    [theme=dark] .colab-df-convert:hover {\n",
              "      background-color: #434B5C;\n",
              "      box-shadow: 0px 1px 3px 1px rgba(0, 0, 0, 0.15);\n",
              "      filter: drop-shadow(0px 1px 2px rgba(0, 0, 0, 0.3));\n",
              "      fill: #FFFFFF;\n",
              "    }\n",
              "  </style>\n",
              "\n",
              "      <script>\n",
              "        const buttonEl =\n",
              "          document.querySelector('#df-472b0381-d2a5-4b3d-abee-8eafcd4d8dea button.colab-df-convert');\n",
              "        buttonEl.style.display =\n",
              "          google.colab.kernel.accessAllowed ? 'block' : 'none';\n",
              "\n",
              "        async function convertToInteractive(key) {\n",
              "          const element = document.querySelector('#df-472b0381-d2a5-4b3d-abee-8eafcd4d8dea');\n",
              "          const dataTable =\n",
              "            await google.colab.kernel.invokeFunction('convertToInteractive',\n",
              "                                                     [key], {});\n",
              "          if (!dataTable) return;\n",
              "\n",
              "          const docLinkHtml = 'Like what you see? Visit the ' +\n",
              "            '<a target=\"_blank\" href=https://colab.research.google.com/notebooks/data_table.ipynb>data table notebook</a>'\n",
              "            + ' to learn more about interactive tables.';\n",
              "          element.innerHTML = '';\n",
              "          dataTable['output_type'] = 'display_data';\n",
              "          await google.colab.output.renderOutput(dataTable, element);\n",
              "          const docLink = document.createElement('div');\n",
              "          docLink.innerHTML = docLinkHtml;\n",
              "          element.appendChild(docLink);\n",
              "        }\n",
              "      </script>\n",
              "    </div>\n",
              "  </div>\n",
              "  "
            ]
          },
          "metadata": {},
          "execution_count": 19
        }
      ]
    },
    {
      "cell_type": "markdown",
      "source": [
        "5.Draw a histogram to depict what the model of random selection predicts about the statistic.(4). Depict the observed statistic as a red dot on the histogram(1). "
      ],
      "metadata": {
        "id": "QkJJU0VnSR-6"
      }
    },
    {
      "cell_type": "code",
      "source": [
        "m_w.hist()\n",
        "plt.title('Mendel Comparison');\n",
        "plt.xlabel('White Flowers in a Random Sample',fontsize=20)\n",
        "plt.ylabel('Unit',fontsize=20);\n",
        "plt.scatter(162, 0, color='red', s=30)"
      ],
      "metadata": {
        "colab": {
          "base_uri": "https://localhost:8080/",
          "height": 321
        },
        "id": "suiIExxcP3A3",
        "outputId": "b9a7819e-48a5-4bcb-da22-efc3a6cbde2a"
      },
      "execution_count": 22,
      "outputs": [
        {
          "output_type": "execute_result",
          "data": {
            "text/plain": [
              "<matplotlib.collections.PathCollection at 0x7f09214a6f10>"
            ]
          },
          "metadata": {},
          "execution_count": 22
        },
        {
          "output_type": "display_data",
          "data": {
            "text/plain": [
              "<Figure size 432x288 with 1 Axes>"
            ],
            "image/png": "[encoded data removed]"
          },
          "metadata": {
            "needs_background": "light"
          }
        }
      ]
    },
    {
      "cell_type": "markdown",
      "source": [
        "6.What is the outcome of your analysis? (1)\n",
        "\n",
        "According to the analysis of the simulation, it can be observed that the lowest value in the dataframe of 1,938 rows of White flowers is 192 and the greatest value of white flowers 275.\n",
        "Since 162 is way out of this range, We can see that Mendels ratio when randomly selected white flowers is not 3:1\n",
        "\n",
        "Therefore we reject the Null Hypothesis."
      ],
      "metadata": {
        "id": "aBHugeE1Svw6"
      }
    },
    {
      "cell_type": "code",
      "source": [
        "m_w.min()"
      ],
      "metadata": {
        "colab": {
          "base_uri": "https://localhost:8080/"
        },
        "id": "FwnpgshWQnbH",
        "outputId": "3900a138-9762-43ae-819c-123aa5ae68c0"
      },
      "execution_count": 23,
      "outputs": [
        {
          "output_type": "execute_result",
          "data": {
            "text/plain": [
              "0    192\n",
              "dtype: int64"
            ]
          },
          "metadata": {},
          "execution_count": 23
        }
      ]
    },
    {
      "cell_type": "code",
      "source": [
        "m_w.max()"
      ],
      "metadata": {
        "colab": {
          "base_uri": "https://localhost:8080/"
        },
        "id": "xfgkt9v2TyrI",
        "outputId": "b3e0945d-38a2-473f-8d71-b77156db6a3a"
      },
      "execution_count": 24,
      "outputs": [
        {
          "output_type": "execute_result",
          "data": {
            "text/plain": [
              "0    275\n",
              "dtype: int64"
            ]
          },
          "metadata": {},
          "execution_count": 24
        }
      ]
    },
    {
      "cell_type": "markdown",
      "source": [
        "#Part B"
      ],
      "metadata": {
        "id": "fMsvhl-rRSaH"
      }
    },
    {
      "cell_type": "code",
      "source": [
        "std = 13.46\n",
        "u = 60  #h0 null hypothesis\n",
        "x = 65.5 #h1 alternate hypothesis\n",
        "n = 30 \n",
        "a = 0.05"
      ],
      "metadata": {
        "id": "RYZBZz1IRVS3"
      },
      "execution_count": 29,
      "outputs": []
    },
    {
      "cell_type": "code",
      "source": [
        "z_critical = abs(st.norm.ppf(a))\n",
        "z_critical"
      ],
      "metadata": {
        "colab": {
          "base_uri": "https://localhost:8080/"
        },
        "id": "bm2s3IC6Ver4",
        "outputId": "c23bce59-3447-49cc-bd20-91f036e8444f"
      },
      "execution_count": 30,
      "outputs": [
        {
          "output_type": "execute_result",
          "data": {
            "text/plain": [
              "1.6448536269514729"
            ]
          },
          "metadata": {},
          "execution_count": 30
        }
      ]
    },
    {
      "cell_type": "code",
      "source": [
        "z = (x-u)/(std/np.sqrt(n))\n",
        "z"
      ],
      "metadata": {
        "colab": {
          "base_uri": "https://localhost:8080/"
        },
        "id": "77S5ahntWC0n",
        "outputId": "f8b088b1-a6e7-4217-8f49-289da009300e"
      },
      "execution_count": 31,
      "outputs": [
        {
          "output_type": "execute_result",
          "data": {
            "text/plain": [
              "2.238093659939386"
            ]
          },
          "metadata": {},
          "execution_count": 31
        }
      ]
    },
    {
      "cell_type": "code",
      "source": [
        "if (z < z_critical): \n",
        "    print(\"Not enough evidence to reject Null hypothesis\")\n",
        "else:\n",
        "    print(\"Enough evidence reject Null Hypothesis\")"
      ],
      "metadata": {
        "colab": {
          "base_uri": "https://localhost:8080/"
        },
        "id": "awdDJQanWIxw",
        "outputId": "9135ffd7-658f-4f7c-ff28-08c28e84f6a7"
      },
      "execution_count": 33,
      "outputs": [
        {
          "output_type": "stream",
          "name": "stdout",
          "text": [
            "Enough evidence reject Null Hypothesis\n"
          ]
        }
      ]
    }
  ]
}